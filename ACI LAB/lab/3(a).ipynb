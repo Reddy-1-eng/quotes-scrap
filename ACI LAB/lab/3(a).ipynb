{
 "cells": [
  {
   "cell_type": "code",
   "execution_count": 1,
   "id": "6201988f-7a27-4d25-a864-760eacd50145",
   "metadata": {},
   "outputs": [
    {
     "name": "stdout",
     "output_type": "stream",
     "text": [
      "A -> B -> E -> F\n"
     ]
    }
   ],
   "source": [
    "\n",
    "from queue import PriorityQueue\n",
    "\n",
    "def a_star(graph, start, goal, h):\n",
    "    open_list = PriorityQueue()\n",
    "    open_list.put((0, start))\n",
    "    came_from = {}\n",
    "    g_score = {start: 0}\n",
    "\n",
    "    while not open_list.empty():\n",
    "        _, current = open_list.get()\n",
    "\n",
    "        if current == goal:\n",
    "            reconstruct_path(came_from, current)\n",
    "            return\n",
    "\n",
    "        for neighbor, cost in graph[current].items():\n",
    "            tentative_g_score = g_score[current] + cost\n",
    "            if neighbor not in g_score or tentative_g_score < g_score[neighbor]:\n",
    "                came_from[neighbor] = current\n",
    "                g_score[neighbor] = tentative_g_score\n",
    "                f_score = tentative_g_score + h[neighbor]\n",
    "                open_list.put((f_score, neighbor))\n",
    "\n",
    "    print(\"Path not found\")\n",
    "\n",
    "def reconstruct_path(came_from, current):\n",
    "    path = [current]\n",
    "    while current in came_from:\n",
    "        current = came_from[current]\n",
    "        path.append(current)\n",
    "    print(\" -> \".join(reversed(path)))\n",
    "\n",
    "graph = {\n",
    "    'A': {'B': 1, 'C': 4},\n",
    "    'B': {'D': 2, 'E': 5},\n",
    "    'C': {'F': 3},\n",
    "    'D': {},\n",
    "    'E': {'F': 1},\n",
    "    'F': {}\n",
    "}\n",
    "\n",
    "h = {'A': 7, 'B': 6, 'C': 4, 'D': 2, 'E': 1, 'F': 0}  # Heuristic values\n",
    "\n",
    "a_star(graph, 'A', 'F', h)"
   ]
  },
  {
   "cell_type": "code",
   "execution_count": null,
   "id": "04f0689d-3660-49a9-8998-c1c5001ad02b",
   "metadata": {},
   "outputs": [],
   "source": []
  }
 ],
 "metadata": {
  "kernelspec": {
   "display_name": "Python 3 (ipykernel)",
   "language": "python",
   "name": "python3"
  },
  "language_info": {
   "codemirror_mode": {
    "name": "ipython",
    "version": 3
   },
   "file_extension": ".py",
   "mimetype": "text/x-python",
   "name": "python",
   "nbconvert_exporter": "python",
   "pygments_lexer": "ipython3",
   "version": "3.12.4"
  }
 },
 "nbformat": 4,
 "nbformat_minor": 5
}
