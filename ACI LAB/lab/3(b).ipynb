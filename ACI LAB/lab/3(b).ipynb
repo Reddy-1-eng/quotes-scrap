{
 "cells": [
  {
   "cell_type": "code",
   "execution_count": 1,
   "id": "9aeac400-0321-4d2f-8f9e-3646bce5bd74",
   "metadata": {},
   "outputs": [
    {
     "name": "stdout",
     "output_type": "stream",
     "text": [
      "A -> C -> F\n"
     ]
    }
   ],
   "source": [
    "\n",
    "\n",
    "from queue import PriorityQueue\n",
    "\n",
    "def greedy_bfs(graph, start, goal, h):\n",
    "    open_list = PriorityQueue()\n",
    "    open_list.put((h[start], start))\n",
    "    came_from = {}\n",
    "\n",
    "    while not open_list.empty():\n",
    "        _, current = open_list.get()\n",
    "\n",
    "        if current == goal:\n",
    "            reconstruct_path(came_from, current)\n",
    "            return\n",
    "\n",
    "        for neighbor in graph[current]:\n",
    "            if neighbor not in came_from:\n",
    "                came_from[neighbor] = current\n",
    "                open_list.put((h[neighbor], neighbor))\n",
    "\n",
    "    print(\"Path not found\")\n",
    "\n",
    "def reconstruct_path(came_from, current):\n",
    "    path = [current]\n",
    "    while current in came_from:\n",
    "        current = came_from[current]\n",
    "        path.append(current)\n",
    "    print(\" -> \".join(reversed(path)))\n",
    "\n",
    "graph = {\n",
    "    'A': {'B': 1, 'C': 4},\n",
    "    'B': {'D': 2, 'E': 5},\n",
    "    'C': {'F': 3},\n",
    "    'D': {},\n",
    "    'E': {'F': 1},\n",
    "    'F': {}\n",
    "}\n",
    "\n",
    "h = {'A': 7, 'B': 6, 'C': 4, 'D': 2, 'E': 1, 'F': 0}  # Heuristic values\n",
    "\n",
    "greedy_bfs(graph, 'A', 'F', h)"
   ]
  },
  {
   "cell_type": "code",
   "execution_count": null,
   "id": "cf82377e-1dbf-4693-8844-3f95f31d9e9b",
   "metadata": {},
   "outputs": [],
   "source": []
  }
 ],
 "metadata": {
  "kernelspec": {
   "display_name": "Python 3 (ipykernel)",
   "language": "python",
   "name": "python3"
  },
  "language_info": {
   "codemirror_mode": {
    "name": "ipython",
    "version": 3
   },
   "file_extension": ".py",
   "mimetype": "text/x-python",
   "name": "python",
   "nbconvert_exporter": "python",
   "pygments_lexer": "ipython3",
   "version": "3.12.4"
  }
 },
 "nbformat": 4,
 "nbformat_minor": 5
}
