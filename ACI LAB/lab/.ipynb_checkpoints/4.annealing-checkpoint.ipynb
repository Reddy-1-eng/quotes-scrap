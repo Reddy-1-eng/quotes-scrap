{
 "cells": [
  {
   "cell_type": "code",
   "execution_count": null,
   "id": "4229b847-072b-4236-88ab-70f457d6ff26",
   "metadata": {},
   "outputs": [],
   "source": [
    "import math\n",
    "import random\n",
    "\n",
    "def simulated_annealing(function, bounds, temp, cooling_rate, max_iterations):\n",
    "    current_solution = random.uniform(bounds[0], bounds[1])\n",
    "    best_solution = current_solution\n",
    "\n",
    "    for i in range(max_iterations):\n",
    "        new_solution = current_solution + random.uniform(-1, 1) \n",
    "        new_solution = max(min(new_solution, bounds[1]), bounds[0]) \n",
    "        current_value = function(current_solution)\n",
    "        new_value = function(new_solution)\n",
    "\n",
    "        if new_value < current_value: \n",
    "            current_solution = new_solution\n",
    "        else:\n",
    "          \n",
    "            acceptance_prob = math.exp((current_value - new_value) / temp)\n",
    "            if acceptance_prob > random.random():\n",
    "                current_solution = new_solution\n",
    "        \n",
    "        if function(current_solution) < function(best_solution):\n",
    "            best_solution = current_solution\n",
    "        \n",
    "        temp *= cooling_rate  \n",
    "\n",
    "    return best_solution\n",
    "\n",
    "\n",
    "def function(x):\n",
    "    return x ** 2\n",
    "\n",
    "\n",
    "bounds = (-10, 10)  \n",
    "temp = 100  \n",
    "cooling_rate = 0.9 \n",
    "max_iterations = 1000 \n",
    "\n",
    "best_solution = simulated_annealing(function, bounds, temp, cooling_rate, max_iterations)\n",
    "print(f\"Best solution: {best_solution}, Function value: {function(best_solution)}\")"
   ]
  }
 ],
 "metadata": {
  "kernelspec": {
   "display_name": "Python 3 (ipykernel)",
   "language": "python",
   "name": "python3"
  },
  "language_info": {
   "codemirror_mode": {
    "name": "ipython",
    "version": 3
   },
   "file_extension": ".py",
   "mimetype": "text/x-python",
   "name": "python",
   "nbconvert_exporter": "python",
   "pygments_lexer": "ipython3",
   "version": "3.12.4"
  }
 },
 "nbformat": 4,
 "nbformat_minor": 5
}
