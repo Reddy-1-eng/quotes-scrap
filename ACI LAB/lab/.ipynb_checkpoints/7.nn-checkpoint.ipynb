{
 "cells": [
  {
   "cell_type": "code",
   "execution_count": 2,
   "id": "e1c72c65-bfe7-4620-8e53-131f3172bcac",
   "metadata": {},
   "outputs": [
    {
     "name": "stdout",
     "output_type": "stream",
     "text": [
      "Binary Sigmoidal Output:\n",
      " [[0.74331531]\n",
      " [0.77580347]\n",
      " [0.80233854]]\n",
      "Bipolar Sigmoidal Output:\n",
      " [[0.12404315]\n",
      " [0.29386342]\n",
      " [0.43202872]]\n"
     ]
    }
   ],
   "source": [
    "import numpy as np\n",
    "\n",
    "def binary_sigmoid(x):\n",
    "    return 1 / (1 + np.exp(-x))\n",
    "\n",
    "def bipolar_sigmoid(x):\n",
    "    return (2 / (1 + np.exp(-x))) - 1\n",
    "\n",
    "def initialize_weights(input_size, hidden_size, output_size):\n",
    "    np.random.seed(42)\n",
    "    w_hidden = np.random.randn(input_size, hidden_size)\n",
    "    w_output = np.random.randn(hidden_size, output_size)\n",
    "    return w_hidden, w_output\n",
    "\n",
    "def feedforward(x, w_hidden, w_output, activation_func):\n",
    "    hidden_input = np.dot(x, w_hidden)\n",
    "    hidden_output = activation_func(hidden_input)\n",
    "    final_input = np.dot(hidden_output, w_output)\n",
    "    final_output = activation_func(final_input)\n",
    "    return final_output\n",
    "\n",
    "input_data = np.array([[0.1, 0.2], [0.4, 0.5], [0.6, 0.9]])\n",
    "input_size = input_data.shape[1]\n",
    "hidden_size = 3\n",
    "output_size = 1\n",
    "\n",
    "w_hidden, w_output = initialize_weights(input_size, hidden_size, output_size)\n",
    "\n",
    "binary_output = feedforward(input_data, w_hidden, w_output, binary_sigmoid)\n",
    "bipolar_output = feedforward(input_data, w_hidden, w_output, bipolar_sigmoid)\n",
    "\n",
    "print(\"Binary Sigmoidal Output:\\n\", binary_output)\n",
    "print(\"Bipolar Sigmoidal Output:\\n\", bipolar_output)\n"
   ]
  },
  {
   "cell_type": "code",
   "execution_count": null,
   "id": "8740aaaa-fc52-4744-83e0-2a500815631c",
   "metadata": {},
   "outputs": [],
   "source": []
  }
 ],
 "metadata": {
  "kernelspec": {
   "display_name": "Python 3 (ipykernel)",
   "language": "python",
   "name": "python3"
  },
  "language_info": {
   "codemirror_mode": {
    "name": "ipython",
    "version": 3
   },
   "file_extension": ".py",
   "mimetype": "text/x-python",
   "name": "python",
   "nbconvert_exporter": "python",
   "pygments_lexer": "ipython3",
   "version": "3.12.4"
  }
 },
 "nbformat": 4,
 "nbformat_minor": 5
}
