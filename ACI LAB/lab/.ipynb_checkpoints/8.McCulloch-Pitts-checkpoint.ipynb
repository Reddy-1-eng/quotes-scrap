{
 "cells": [
  {
   "cell_type": "code",
   "execution_count": 1,
   "id": "f5d45314-feae-43c4-89da-1af867ebe436",
   "metadata": {},
   "outputs": [
    {
     "name": "stdout",
     "output_type": "stream",
     "text": [
      "X1 X2 Y\n",
      "0  0  0\n",
      "0  1  0\n",
      "1  0  1\n",
      "1  1  0\n"
     ]
    }
   ],
   "source": [
    "def activation(input_sum):\n",
    "    return 1 if input_sum >= 0 else 0\n",
    "\n",
    "\n",
    "def andnot_gate(X1, X2):\n",
    "\n",
    "    w1 = 1   \n",
    "    w2 = -1  \n",
    "    bias = -0.5\n",
    "\n",
    "    weighted_sum = X1 * w1 + X2 * w2 + bias\n",
    "    output = activation(weighted_sum)\n",
    "    \n",
    "    return output\n",
    "\n",
    "\n",
    "inputs = [(0, 0), (0, 1), (1, 0), (1, 1)]\n",
    "\n",
    "print(\"X1 X2 Y\")\n",
    "for X1, X2 in inputs:\n",
    "    print(f\"{X1}  {X2}  {andnot_gate(X1, X2)}\")"
   ]
  },
  {
   "cell_type": "code",
   "execution_count": null,
   "id": "9f2d2774-be5d-462f-b734-e42bae43f7cf",
   "metadata": {},
   "outputs": [],
   "source": []
  }
 ],
 "metadata": {
  "kernelspec": {
   "display_name": "Python 3 (ipykernel)",
   "language": "python",
   "name": "python3"
  },
  "language_info": {
   "codemirror_mode": {
    "name": "ipython",
    "version": 3
   },
   "file_extension": ".py",
   "mimetype": "text/x-python",
   "name": "python",
   "nbconvert_exporter": "python",
   "pygments_lexer": "ipython3",
   "version": "3.12.4"
  }
 },
 "nbformat": 4,
 "nbformat_minor": 5
}
