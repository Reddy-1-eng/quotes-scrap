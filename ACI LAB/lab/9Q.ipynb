{
 "cells": [
  {
   "cell_type": "code",
   "execution_count": 2,
   "id": "60c8e75a-d58c-45ed-9fc7-5b50d3c2d1a4",
   "metadata": {},
   "outputs": [
    {
     "name": "stdout",
     "output_type": "stream",
     "text": [
      "Max-Min Composition:\n",
      " [[0.9 0.9 0.8 0.8]\n",
      " [0.8 0.8 0.8 0.9]\n",
      " [0.9 0.9 0.8 0.6]\n",
      " [0.8 0.8 0.7 0.9]]\n",
      "Max-Dot Composition:\n",
      " [[0.81 0.9  0.72 0.72]\n",
      " [0.72 0.8  0.64 0.81]\n",
      " [0.9  0.9  0.64 0.54]\n",
      " [0.8  0.8  0.63 0.81]]\n"
     ]
    }
   ],
   "source": [
    "import numpy as np\n",
    "\n",
    "def max_min_composition(P, Q):\n",
    "    R = np.zeros((P.shape[0], Q.shape[1]))\n",
    "    for i in range(P.shape[0]):\n",
    "        for j in range(Q.shape[1]):\n",
    "            R[i, j] = np.max(np.minimum(P[i, :], Q[:, j]))\n",
    "    return R\n",
    "\n",
    "def max_dot_composition(P, Q):\n",
    "    R = np.zeros((P.shape[0], Q.shape[1]))\n",
    "    for i in range(P.shape[0]):\n",
    "        for j in range(Q.shape[1]):\n",
    "            R[i, j] = np.max(P[i, :] * Q[:, j])\n",
    "    return R\n",
    "\n",
    "P = np.array([[0.8, 0.6, 0.6, 0.9],\n",
    "              [0.1, 0.2, 0.9, 0.8],\n",
    "              [0.3, 0.9, 0.4, 0.8],\n",
    "              [0.9, 0.8, 0.1, 0.2]])\n",
    "\n",
    "Q = np.array([[0.1, 0.2, 0.7, 0.9],\n",
    "              [1.0, 1.0, 0.4, 0.6],\n",
    "              [0.0, 0.5, 0.0, 0.9],\n",
    "              [0.9, 1.0, 0.8, 0.2]])\n",
    "\n",
    "R_max_min = max_min_composition(P, Q)\n",
    "R_max_dot = max_dot_composition(P, Q)\n",
    "\n",
    "print(\"Max-Min Composition:\\n\", R_max_min)\n",
    "print(\"Max-Dot Composition:\\n\", R_max_dot)\n"
   ]
  },
  {
   "cell_type": "code",
   "execution_count": null,
   "id": "0dfc6a34-b5b3-4631-8638-301339e0adcc",
   "metadata": {},
   "outputs": [],
   "source": []
  }
 ],
 "metadata": {
  "kernelspec": {
   "display_name": "Python 3 (ipykernel)",
   "language": "python",
   "name": "python3"
  },
  "language_info": {
   "codemirror_mode": {
    "name": "ipython",
    "version": 3
   },
   "file_extension": ".py",
   "mimetype": "text/x-python",
   "name": "python",
   "nbconvert_exporter": "python",
   "pygments_lexer": "ipython3",
   "version": "3.12.4"
  }
 },
 "nbformat": 4,
 "nbformat_minor": 5
}
