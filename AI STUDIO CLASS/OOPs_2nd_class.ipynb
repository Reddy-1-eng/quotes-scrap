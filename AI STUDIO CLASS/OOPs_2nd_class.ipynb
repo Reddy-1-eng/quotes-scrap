{
  "nbformat": 4,
  "nbformat_minor": 0,
  "metadata": {
    "colab": {
      "provenance": []
    },
    "kernelspec": {
      "name": "python3",
      "display_name": "Python 3"
    },
    "language_info": {
      "name": "python"
    }
  },
  "cells": [
    {
      "cell_type": "markdown",
      "source": [
        "**del keyword : It delets  object properties or object itself**"
      ],
      "metadata": {
        "id": "Fq4pskkAWjAI"
      }
    },
    {
      "cell_type": "code",
      "execution_count": null,
      "metadata": {
        "colab": {
          "base_uri": "https://localhost:8080/",
          "height": 193
        },
        "id": "_wAm0yLgWS-B",
        "outputId": "1c128e80-5195-4954-a41a-e6f6f79f66fd"
      },
      "outputs": [
        {
          "output_type": "stream",
          "name": "stdout",
          "text": [
            "sonali\n"
          ]
        },
        {
          "output_type": "error",
          "ename": "AttributeError",
          "evalue": "'Employee' object has no attribute 'name'",
          "traceback": [
            "\u001b[0;31m---------------------------------------------------------------------------\u001b[0m",
            "\u001b[0;31mAttributeError\u001b[0m                            Traceback (most recent call last)",
            "\u001b[0;32m<ipython-input-3-4886dcafe6fb>\u001b[0m in \u001b[0;36m<cell line: 8>\u001b[0;34m()\u001b[0m\n\u001b[1;32m      6\u001b[0m \u001b[0mprint\u001b[0m\u001b[0;34m(\u001b[0m\u001b[0ms1\u001b[0m\u001b[0;34m.\u001b[0m\u001b[0mname\u001b[0m\u001b[0;34m)\u001b[0m\u001b[0;34m\u001b[0m\u001b[0;34m\u001b[0m\u001b[0m\n\u001b[1;32m      7\u001b[0m \u001b[0;32mdel\u001b[0m \u001b[0ms1\u001b[0m\u001b[0;34m.\u001b[0m\u001b[0mname\u001b[0m\u001b[0;34m\u001b[0m\u001b[0;34m\u001b[0m\u001b[0m\n\u001b[0;32m----> 8\u001b[0;31m \u001b[0mprint\u001b[0m\u001b[0;34m(\u001b[0m\u001b[0ms1\u001b[0m\u001b[0;34m.\u001b[0m\u001b[0mname\u001b[0m\u001b[0;34m)\u001b[0m\u001b[0;34m\u001b[0m\u001b[0;34m\u001b[0m\u001b[0m\n\u001b[0m",
            "\u001b[0;31mAttributeError\u001b[0m: 'Employee' object has no attribute 'name'"
          ]
        }
      ],
      "source": [
        "class Employee:\n",
        "  def __init__(self,name):\n",
        "    self.name = name\n",
        "\n",
        "s1 = Employee('sonali')\n",
        "print(s1.name)\n",
        "del s1.name\n",
        "print(s1.name)"
      ]
    },
    {
      "cell_type": "markdown",
      "source": [
        "**Private or like attributes & methods**\n",
        "\n",
        "Private attributes and methods can only be used only within the class and are not accessible outside the class"
      ],
      "metadata": {
        "id": "EMFimU6kXega"
      }
    },
    {
      "cell_type": "code",
      "source": [
        "class Account:\n",
        "  def __init__(self,acc_no,acc_pass):\n",
        "    self.acc_no = acc_no\n",
        "    self.__acc_pass = acc_pass\n",
        "\n",
        "  def reset_paswd(self):\n",
        "    print(self.__acc_pass)  ## can access inside class\n",
        "\n",
        "acc1 = Account(\"1234\",'xyz')\n",
        "print(acc1.acc_no)\n",
        "print(acc1.__acc_pass)   ## can't access outside class\n",
        "\n",
        "\n",
        "\n",
        "\n"
      ],
      "metadata": {
        "colab": {
          "base_uri": "https://localhost:8080/",
          "height": 228
        },
        "id": "ffj2n9lNXFbh",
        "outputId": "ad41302d-3e19-4e7d-f9c1-f2d4c183d215"
      },
      "execution_count": null,
      "outputs": [
        {
          "output_type": "stream",
          "name": "stdout",
          "text": [
            "1234\n"
          ]
        },
        {
          "output_type": "error",
          "ename": "AttributeError",
          "evalue": "'Account' object has no attribute '__acc_pass'",
          "traceback": [
            "\u001b[0;31m---------------------------------------------------------------------------\u001b[0m",
            "\u001b[0;31mAttributeError\u001b[0m                            Traceback (most recent call last)",
            "\u001b[0;32m<ipython-input-4-6dbb59cfc07b>\u001b[0m in \u001b[0;36m<cell line: 11>\u001b[0;34m()\u001b[0m\n\u001b[1;32m      9\u001b[0m \u001b[0macc1\u001b[0m \u001b[0;34m=\u001b[0m \u001b[0mAccount\u001b[0m\u001b[0;34m(\u001b[0m\u001b[0;34m\"1234\"\u001b[0m\u001b[0;34m,\u001b[0m\u001b[0;34m'xyz'\u001b[0m\u001b[0;34m)\u001b[0m\u001b[0;34m\u001b[0m\u001b[0;34m\u001b[0m\u001b[0m\n\u001b[1;32m     10\u001b[0m \u001b[0mprint\u001b[0m\u001b[0;34m(\u001b[0m\u001b[0macc1\u001b[0m\u001b[0;34m.\u001b[0m\u001b[0macc_no\u001b[0m\u001b[0;34m)\u001b[0m\u001b[0;34m\u001b[0m\u001b[0;34m\u001b[0m\u001b[0m\n\u001b[0;32m---> 11\u001b[0;31m \u001b[0mprint\u001b[0m\u001b[0;34m(\u001b[0m\u001b[0macc1\u001b[0m\u001b[0;34m.\u001b[0m\u001b[0m__acc_pass\u001b[0m\u001b[0;34m)\u001b[0m\u001b[0;34m\u001b[0m\u001b[0;34m\u001b[0m\u001b[0m\n\u001b[0m\u001b[1;32m     12\u001b[0m \u001b[0;34m\u001b[0m\u001b[0m\n\u001b[1;32m     13\u001b[0m \u001b[0;34m\u001b[0m\u001b[0m\n",
            "\u001b[0;31mAttributeError\u001b[0m: 'Account' object has no attribute '__acc_pass'"
          ]
        }
      ]
    },
    {
      "cell_type": "code",
      "source": [
        "## Private methods\n",
        "\n",
        "class Person:\n",
        "  def __hello(self):\n",
        "    print(\"Hello frnds!\")\n",
        "\n",
        "  def welcm(self):\n",
        "    self.__hello()\n",
        "\n",
        "p1 = Person()\n",
        "\n",
        "print(p1.welcm())\n"
      ],
      "metadata": {
        "colab": {
          "base_uri": "https://localhost:8080/"
        },
        "id": "2s3PJSBSfoCS",
        "outputId": "a1018ea8-cdd3-4bb6-e38c-c911ea9a577b"
      },
      "execution_count": null,
      "outputs": [
        {
          "output_type": "stream",
          "name": "stdout",
          "text": [
            "Hello frnds!\n",
            "None\n"
          ]
        }
      ]
    },
    {
      "cell_type": "markdown",
      "source": [
        "**Inheritence**\n",
        "\n",
        "When one class(child/derived) derives the properties of another  class(parent/base)"
      ],
      "metadata": {
        "id": "HnSiqSHeha9K"
      }
    },
    {
      "cell_type": "markdown",
      "source": [
        "**Types of Inheritence**\n",
        "\n",
        "Single Inheritence: In this type child class inheritence from parent class\n",
        "\n",
        "Multiple Inheritence: In this type child class inheritence from more than 1 parent class\n",
        "\n",
        "Multi-level Inheritence: In this type, we have parent,child,grand-child realtionship"
      ],
      "metadata": {
        "id": "3hfN5aUcqW6y"
      }
    },
    {
      "cell_type": "markdown",
      "source": [
        "**Single Inheritence Example**"
      ],
      "metadata": {
        "id": "qXX_l0RFrCbr"
      }
    },
    {
      "cell_type": "code",
      "source": [
        "## Create a superclass\n",
        "\n",
        "class Vehicle:\n",
        "  def __init__(self,mileage,cost):\n",
        "    self.mileage = mileage\n",
        "    self.cost = cost\n",
        "\n",
        "  def show_details(self):\n",
        "    print(\"I am a vehicle\")\n",
        "    print(\"Mileage of a vehicle\",self.mileage)\n",
        "    print(\"Cost of vehicle:\", self.cost)\n",
        "\n",
        "v1 = Vehicle(50,50000)\n",
        "v1.show_details()"
      ],
      "metadata": {
        "colab": {
          "base_uri": "https://localhost:8080/"
        },
        "id": "TtZxQ-xAhOZc",
        "outputId": "13a2d760-f380-42ae-923e-8e93dc55477b"
      },
      "execution_count": null,
      "outputs": [
        {
          "output_type": "stream",
          "name": "stdout",
          "text": [
            "I am a vehicle\n",
            "Mileage of a vehicle 50\n",
            "Cost of vehicle: 50000\n"
          ]
        }
      ]
    },
    {
      "cell_type": "code",
      "source": [
        "### Create a subclass\n",
        "\n",
        "class Car(Vehicle):\n",
        "  def show_car(self):\n",
        "    print(\"I am a car\")\n",
        "\n",
        "\n",
        "c1 = Car(40,40000)\n",
        "c1.show_details()"
      ],
      "metadata": {
        "colab": {
          "base_uri": "https://localhost:8080/"
        },
        "id": "TyTfBYnBphwt",
        "outputId": "77415897-d447-43a1-966b-f3e76c548c1c"
      },
      "execution_count": null,
      "outputs": [
        {
          "output_type": "stream",
          "name": "stdout",
          "text": [
            "I am a vehicle\n",
            "Mileage of a vehicle 40\n",
            "Cost of vehicle: 40000\n"
          ]
        }
      ]
    },
    {
      "cell_type": "code",
      "source": [
        "c1.show_car()"
      ],
      "metadata": {
        "colab": {
          "base_uri": "https://localhost:8080/"
        },
        "id": "yMRnIu0Up9gU",
        "outputId": "3a9cbc65-4489-4524-882e-e1407ecb88b3"
      },
      "execution_count": null,
      "outputs": [
        {
          "output_type": "stream",
          "name": "stdout",
          "text": [
            "I am a car\n"
          ]
        }
      ]
    },
    {
      "cell_type": "markdown",
      "source": [
        "**Multiple Inheritence**"
      ],
      "metadata": {
        "id": "TOEvlA5mrHIC"
      }
    },
    {
      "cell_type": "code",
      "source": [
        "## Parent Class One\n",
        "\n",
        "\n",
        "class Parent1:\n",
        "  def assign_str_one(self,str1):\n",
        "    self.str1 = str1\n",
        "\n",
        "  def show_str1(self):\n",
        "    return self.str1\n"
      ],
      "metadata": {
        "id": "xs3mo-KuqEnS"
      },
      "execution_count": null,
      "outputs": []
    },
    {
      "cell_type": "code",
      "source": [
        "## parent Class Two\n",
        "\n",
        "class Parent2:\n",
        "  def assign_str_two(self,str2):\n",
        "    self.str2 = str2\n",
        "\n",
        "  def show_str2(self):\n",
        "    return self.str2"
      ],
      "metadata": {
        "id": "rCompe-Pri2x"
      },
      "execution_count": null,
      "outputs": []
    },
    {
      "cell_type": "code",
      "source": [
        "### Child Class\n",
        "\n",
        "class Derived(Parent1,Parent2):\n",
        "  def assign_str_three(self,str3):\n",
        "    self.str3 = str3\n",
        "\n",
        "  def show_str3(self):\n",
        "    return self.str3\n",
        "\n",
        "## Intializing child class\n",
        "\n",
        "d1 = Derived()\n",
        "\n",
        "d1.assign_str_one(\"one\")\n",
        "d1.assign_str_two(\"two\")\n",
        "d1.assign_str_three(\"three\")"
      ],
      "metadata": {
        "id": "mPTv8MhHry1r"
      },
      "execution_count": null,
      "outputs": []
    },
    {
      "cell_type": "code",
      "source": [
        "d1.show_str1()"
      ],
      "metadata": {
        "colab": {
          "base_uri": "https://localhost:8080/",
          "height": 35
        },
        "id": "bWkU87E5sapk",
        "outputId": "c5a38faa-1cbf-42f6-9fb6-bcddfa6e9adb"
      },
      "execution_count": null,
      "outputs": [
        {
          "output_type": "execute_result",
          "data": {
            "text/plain": [
              "'one'"
            ],
            "application/vnd.google.colaboratory.intrinsic+json": {
              "type": "string"
            }
          },
          "metadata": {},
          "execution_count": 17
        }
      ]
    },
    {
      "cell_type": "code",
      "source": [
        "d1.show_str2()"
      ],
      "metadata": {
        "colab": {
          "base_uri": "https://localhost:8080/",
          "height": 35
        },
        "id": "iKOo8FY3sefR",
        "outputId": "8a25fc37-980e-4b82-d76f-844f9bca9fa7"
      },
      "execution_count": null,
      "outputs": [
        {
          "output_type": "execute_result",
          "data": {
            "text/plain": [
              "'two'"
            ],
            "application/vnd.google.colaboratory.intrinsic+json": {
              "type": "string"
            }
          },
          "metadata": {},
          "execution_count": 18
        }
      ]
    },
    {
      "cell_type": "code",
      "source": [
        "d1.show_str3()"
      ],
      "metadata": {
        "colab": {
          "base_uri": "https://localhost:8080/",
          "height": 35
        },
        "id": "QDPOW_kEshUy",
        "outputId": "43a934ca-b720-4f3b-fe1c-322df24e9734"
      },
      "execution_count": null,
      "outputs": [
        {
          "output_type": "execute_result",
          "data": {
            "text/plain": [
              "'three'"
            ],
            "application/vnd.google.colaboratory.intrinsic+json": {
              "type": "string"
            }
          },
          "metadata": {},
          "execution_count": 22
        }
      ]
    },
    {
      "cell_type": "markdown",
      "source": [
        "**Multi Level Inheritence**"
      ],
      "metadata": {
        "id": "O29sbxPqs30b"
      }
    },
    {
      "cell_type": "code",
      "source": [
        "## Parent Class\n",
        "\n",
        "class Parent():\n",
        "  def assign_name(self,name):\n",
        "    self.name = name\n",
        "\n",
        "  def show_name(self):\n",
        "    return self.name"
      ],
      "metadata": {
        "id": "dJGFOhpjspjf"
      },
      "execution_count": null,
      "outputs": []
    },
    {
      "cell_type": "code",
      "source": [
        "## Child Class\n",
        "\n",
        "class Child(Parent):\n",
        "  def assign_age(self,age):\n",
        "    self.age = age\n",
        "\n",
        "  def show_age(self):\n",
        "    return self.age"
      ],
      "metadata": {
        "id": "A3w0Mre4ttk7"
      },
      "execution_count": null,
      "outputs": []
    },
    {
      "cell_type": "code",
      "source": [
        "## Grand-Child Class\n",
        "\n",
        "class Grandchild(Child):\n",
        "  def assign_gender(self,gender):\n",
        "    self.gender = gender\n",
        "\n",
        "  def show_gender(self):\n",
        "    return self.gender"
      ],
      "metadata": {
        "id": "xAJqQ-nWt9qM"
      },
      "execution_count": null,
      "outputs": []
    },
    {
      "cell_type": "code",
      "source": [
        "gc = Grandchild()\n",
        "gc.assign_name(\"Sonali\")\n",
        "gc.assign_age('22')\n",
        "gc.assign_gender('Female')"
      ],
      "metadata": {
        "id": "84uvicn0uSB6"
      },
      "execution_count": null,
      "outputs": []
    },
    {
      "cell_type": "code",
      "source": [
        "gc.show_name()"
      ],
      "metadata": {
        "colab": {
          "base_uri": "https://localhost:8080/",
          "height": 35
        },
        "id": "qASkqoDxueOx",
        "outputId": "8c3f21f8-0ba4-4cdf-e29c-5fef68dcad59"
      },
      "execution_count": null,
      "outputs": [
        {
          "output_type": "execute_result",
          "data": {
            "text/plain": [
              "'Sonali'"
            ],
            "application/vnd.google.colaboratory.intrinsic+json": {
              "type": "string"
            }
          },
          "metadata": {},
          "execution_count": 39
        }
      ]
    },
    {
      "cell_type": "code",
      "source": [
        "gc.show_age()"
      ],
      "metadata": {
        "colab": {
          "base_uri": "https://localhost:8080/",
          "height": 35
        },
        "id": "sLp7lq6XusbS",
        "outputId": "02e7293d-8d41-40f2-e7bc-8479a32675fb"
      },
      "execution_count": null,
      "outputs": [
        {
          "output_type": "execute_result",
          "data": {
            "text/plain": [
              "'22'"
            ],
            "application/vnd.google.colaboratory.intrinsic+json": {
              "type": "string"
            }
          },
          "metadata": {},
          "execution_count": 40
        }
      ]
    },
    {
      "cell_type": "code",
      "source": [
        "gc.show_gender()"
      ],
      "metadata": {
        "colab": {
          "base_uri": "https://localhost:8080/",
          "height": 35
        },
        "id": "JrlxHf-ouuv9",
        "outputId": "ff2f55e8-e520-4cd2-9ff1-c4bf0a1c4d0f"
      },
      "execution_count": null,
      "outputs": [
        {
          "output_type": "execute_result",
          "data": {
            "text/plain": [
              "'Female'"
            ],
            "application/vnd.google.colaboratory.intrinsic+json": {
              "type": "string"
            }
          },
          "metadata": {},
          "execution_count": 41
        }
      ]
    },
    {
      "cell_type": "code",
      "source": [],
      "metadata": {
        "id": "pD8c8y6muwTV"
      },
      "execution_count": null,
      "outputs": []
    }
  ]
}