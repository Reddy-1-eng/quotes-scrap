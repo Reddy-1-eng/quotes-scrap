{
 "cells": [
  {
   "cell_type": "code",
   "execution_count": 1,
   "id": "e36d0c76-53da-460e-8092-14daeeedaef0",
   "metadata": {},
   "outputs": [
    {
     "name": "stdout",
     "output_type": "stream",
     "text": [
      "making phone cell\n",
      "playing a game\n",
      "phone features black 100000 zara\n",
      "phone features black 100000 zara\n",
      "None\n",
      "None\n"
     ]
    }
   ],
   "source": [
    "class Phone:\n",
    "    def make_car(self):\n",
    "        print(\"making phone cell\")\n",
    "\n",
    "    def play_game(self):\n",
    "     print(\"playing a game\")\n",
    "\n",
    "    def set_color(self,color,cost,brand):\n",
    "        self.color = color\n",
    "        self.cost  = cost\n",
    "        self.brand = brand\n",
    "        print(\"phone features\", self.color,self.cost,self.brand)\n",
    "p1 = Phone()\n",
    "p2 = Phone()\n",
    "p1.make_car()\n",
    "p1.play_game()\n",
    "p2.set_color('black',100000,'zara')\n",
    "b=print(p1.set_color('black',100000,'zara'))\n",
    "print(b)"
   ]
  },
  {
   "cell_type": "code",
   "execution_count": 7,
   "id": "b4e80de9-a503-4fa9-bc7d-550e585fbc90",
   "metadata": {},
   "outputs": [
    {
     "name": "stdout",
     "output_type": "stream",
     "text": [
      "name of the employee sam\n",
      "name of the employee 34\n",
      "name of the employee 700000\n",
      "name of the employee male\n"
     ]
    }
   ],
   "source": [
    "class Employee:\n",
    "    def __init__(self,name,age,salary, gender):\n",
    "        self.name =  name\n",
    "        self.age = age\n",
    "        self.salary = salary\n",
    "        self.gender = gender\n",
    "    def employee_detail(self):\n",
    "        print(\"name of the employee\",self.name)\n",
    "        print(\"name of the employee\",self.age)\n",
    "        print(\"name of the employee\",self.salary)\n",
    "        print(\"name of the employee\",self.gender)\n",
    "\n",
    "E1 = Employee(\"sam\",34,700000,\"male\")\n",
    "E1.employee_detail()"
   ]
  },
  {
   "cell_type": "code",
   "execution_count": 3,
   "id": "3887a7df-092d-4d11-945b-af2f01b1f341",
   "metadata": {},
   "outputs": [
    {
     "name": "stdout",
     "output_type": "stream",
     "text": [
      "hi reddy your avg score is: 30.0\n",
      "hi reddy your avg score is: 61.666666666666664\n",
      "hi reddy your avg score is: 94.66666666666667\n"
     ]
    }
   ],
   "source": [
    "class Student:\n",
    "    def __init__(self,name,marks):\n",
    "        self.name = name\n",
    "        self.marks = marks\n",
    "\n",
    "    def get_avg(self):\n",
    "        sum =0\n",
    "        for i in self.marks:\n",
    "            sum+=i\n",
    "            print(\"hi\",self.name,\"your avg score is:\",sum/3)\n",
    "s1=Student(\"reddy\",[90,95,99])\n",
    "s1.get_avg()"
   ]
  },
  {
   "cell_type": "code",
   "execution_count": 5,
   "id": "42176bd4-496a-41f2-a5e6-2c6ed85a3ff4",
   "metadata": {},
   "outputs": [
    {
     "name": "stdout",
     "output_type": "stream",
     "text": [
      "10234568 was debited\n",
      "total balance 89765432\n",
      "20000000 was credited\n",
      "total balance 109765432\n"
     ]
    }
   ],
   "source": [
    "class Account:\n",
    "    def __init__(self,bal,acc):\n",
    "        self.balance = bal\n",
    "        self.account = acc\n",
    "\n",
    "    def debit(self,amount):\n",
    "        self.balance-= amount\n",
    "        print(amount,\"was debited\")\n",
    "        print(\"total balance\",self.get_balance())\n",
    "    def credit(self,amount):\n",
    "        self.balance+= amount\n",
    "        print(amount,\"was credited\")\n",
    "        print(\"total balance\",self.get_balance())\n",
    "    def get_balance(self):\n",
    "        return self.balance\n",
    "\n",
    "acc1 = Account(100000000,123456799)\n",
    "acc1.debit(10234568)        \n",
    "acc1.credit(20000000)       "
   ]
  },
  {
   "cell_type": "code",
   "execution_count": 1,
   "id": "1e1cc8a6-0201-4171-84ed-46f95d70d19a",
   "metadata": {},
   "outputs": [
    {
     "name": "stdout",
     "output_type": "stream",
     "text": [
      "Title: book\n",
      "Author: sukumar\n",
      "ISBN: 23456789\n",
      "Checked out: no\n",
      "The book book has been checked out\n",
      "The book book has been returned\n"
     ]
    }
   ],
   "source": [
    "class Book:\n",
    "    def __init__(self, title, author, ISBN):\n",
    "        self.title = title\n",
    "        self.author = author\n",
    "        self.ISBN = ISBN\n",
    "        self.checked_out = False\n",
    "\n",
    "    def checkout(self): \n",
    "        if not self.checked_out:\n",
    "            self.checked_out = True\n",
    "            print(\"The book\", self.title, \"has been checked out\")\n",
    "        else:\n",
    "            print(\"The book\", self.title, \"has already been checked out\")   \n",
    "\n",
    "    def return_book(self):\n",
    "        if self.checked_out:  \n",
    "            self.checked_out = False\n",
    "            print(\"The book\", self.title, \"has been returned\")\n",
    "        else:\n",
    "            print(\"The book\", self.title, \"was not checked out\")  \n",
    "\n",
    "    def book_details(self):\n",
    "        print(\"Title:\", self.title)\n",
    "        print(\"Author:\", self.author)\n",
    "        print(\"ISBN:\", self.ISBN)\n",
    "        print(f'Checked out: {\"yes\" if self.checked_out else \"no\"}')  \n",
    "\n",
    "b1 = Book(\"book\", \"sukumar\", 23456789)\n",
    "b1.book_details()\n",
    "b1.checkout() \n",
    "b1.return_book()\n"
   ]
  },
  {
   "cell_type": "code",
   "execution_count": 3,
   "id": "ad70d6e5-6691-4689-bfd2-bd30a7645653",
   "metadata": {},
   "outputs": [
    {
     "name": "stdout",
     "output_type": "stream",
     "text": [
      "length: 5\n",
      "width: 3\n",
      "area: 15\n",
      "perimeter: 16\n"
     ]
    }
   ],
   "source": [
    "class Rectangle:\n",
    "    def __init__(self, length, width):\n",
    "        self.length = length\n",
    "        self.width = width\n",
    "\n",
    "    def area(self):\n",
    "        return self.length * self.width\n",
    "\n",
    "    def perimeter(self):\n",
    "        return 2 * (self.length + self.width)\n",
    "\n",
    "    def print_dimension(self):  # Corrected method name from 'print_dimensions' to 'print_dimension'\n",
    "        print(f\"length: {self.length}\")\n",
    "        print(f\"width: {self.width}\")\n",
    "\n",
    "rectangle = Rectangle(5, 3)\n",
    "rectangle.print_dimension()  # Corrected method call to 'print_dimension'\n",
    "print(f\"area: {rectangle.area()}\")\n",
    "print(f\"perimeter: {rectangle.perimeter()}\")  # Corrected method call to 'perimeter'\n"
   ]
  },
  {
   "cell_type": "code",
   "execution_count": 11,
   "id": "ad492a05-8a20-472d-a714-95e3b8a3c9d8",
   "metadata": {},
   "outputs": [
    {
     "name": "stdout",
     "output_type": "stream",
     "text": [
      "Grade90 added.\n",
      "Grade85 added.\n",
      "Grade92 added.\n",
      "name:punith\n",
      "Grades:[90, 85, 92]\n",
      "GPA: 89.00\n"
     ]
    }
   ],
   "source": [
    "class Student:\n",
    "    def __init__(self,name):\n",
    "        self.name = name\n",
    "        self.grades = []\n",
    "\n",
    "    def addgrade(self,grade):\n",
    "        if 0 <= grade <= 100:\n",
    "           self.grades.append(grade)\n",
    "           print(f\"Grade{grade} added.\")\n",
    "        else:\n",
    "           print(\"invalid grade,please insert the grade from 1 to 100\")\n",
    "   \n",
    "    def calculate_gpa(self):\n",
    "       if not self.grades:\n",
    "          return 0\n",
    "       return (sum(self.grades)/len(self.grades))\n",
    "\n",
    "    def print_details(self):\n",
    "       print(f\"name:{self.name}\")\n",
    "       print(f\"Grades:{self.grades}\")\n",
    "       print(f\"GPA: {self.calculate_gpa():.2f}\")\n",
    "\n",
    "student = Student(\"punith\")\n",
    "\n",
    "student.addgrade(90)\n",
    "student.addgrade(85)\n",
    "student.addgrade(92)\n",
    "student.print_details()"
   ]
  },
  {
   "cell_type": "code",
   "execution_count": 9,
   "id": "5b78249e-5a22-4e38-94a1-3f99edcac71a",
   "metadata": {},
   "outputs": [
    {
     "name": "stdout",
     "output_type": "stream",
     "text": [
      "47 celsius is 116.60 farenheit\n",
      "98 farenheit is 36.67 celsius\n"
     ]
    }
   ],
   "source": [
    "class Temperature:\n",
    "    def __init__(self,temp):\n",
    "        self.temp = temp\n",
    "\n",
    "    def convert_to_celsius(self):\n",
    "        converted_temp = (self.temp * 9/5) + 32\n",
    "        print(f\"{self.temp} celsius is {converted_temp:.2f} farenheit\")\n",
    "        #return converted_temp\n",
    "\n",
    "    def  convert_to_farenheit(self):\n",
    "        converted_temp=   (self.temp - 32) * 5/9 \n",
    "        print(f\"{self.temp} farenheit is {converted_temp:.2f} celsius\")\n",
    "        #return converted_temp\n",
    "\n",
    "temperaturecelsius = Temperature(47)\n",
    "temperaturecelsius.convert_to_celsius()\n",
    "temperaturefarenheit = Temperature(98)\n",
    "temperaturefarenheit.convert_to_farenheit()\n",
    "\n",
    "\n",
    "\n",
    "\n"
   ]
  },
  {
   "cell_type": "code",
   "execution_count": 19,
   "id": "c69f593c-f8b9-48cd-9ff8-b357e5b649b2",
   "metadata": {},
   "outputs": [
    {
     "name": "stdout",
     "output_type": "stream",
     "text": [
      "Item: macbook\n",
      "Price per item: $123456\n",
      "Quantity: 25\n",
      "Total price: $3086400\n"
     ]
    }
   ],
   "source": [
    "class Shoppingitem:\n",
    "    def __init__(self,name,price,quantity):\n",
    "        self.name = name\n",
    "        self.price = price\n",
    "        self.quantity = quantity\n",
    "\n",
    "    def total_price(self):\n",
    "        return self.price * self.quantity\n",
    "    \n",
    "    def print_item_details(self):\n",
    "        total_price = self.total_price()\n",
    "        print(f\"Item: {self.name}\")\n",
    "        print(f\"Price per item: ${self.price:}\")\n",
    "        print(f\"Quantity: {self.quantity}\")\n",
    "        print(f\"Total price: ${total_price:}\")\n",
    "        \n",
    "items = Shoppingitem(\"macbook\",123456,25)\n",
    "items.total_price()\n",
    "items. print_item_details()\n"
   ]
  },
  {
   "cell_type": "code",
   "execution_count": 26,
   "id": "13f0d546-fdbe-4d32-855a-cb30fd9c9b2a",
   "metadata": {},
   "outputs": [
    {
     "name": "stdout",
     "output_type": "stream",
     "text": [
      "Punith\n"
     ]
    }
   ],
   "source": [
    "class Employee:\n",
    "    def __init__(self, name):\n",
    "        self.name = name\n",
    "\n",
    "s1 = Employee('Punith')\n",
    "print(s1.name)\n",
    "del s1.name\n",
    "print(s1.name)"
   ]
  },
  {
   "cell_type": "code",
   "execution_count": 64,
   "id": "cdd29f68-6f9b-4ba7-ab45-55ea27aeb046",
   "metadata": {},
   "outputs": [
    {
     "name": "stdout",
     "output_type": "stream",
     "text": [
      "3839\n",
      "xyz\n"
     ]
    },
    {
     "ename": "AttributeError",
     "evalue": "'Accounts' object has no attribute '__accpass'",
     "output_type": "error",
     "traceback": [
      "\u001b[1;31m---------------------------------------------------------------------------\u001b[0m",
      "\u001b[1;31mAttributeError\u001b[0m                            Traceback (most recent call last)",
      "Cell \u001b[1;32mIn[64], line 12\u001b[0m\n\u001b[0;32m     10\u001b[0m password \u001b[38;5;241m=\u001b[39m acc1\u001b[38;5;241m.\u001b[39mresetpassword()\n\u001b[0;32m     11\u001b[0m \u001b[38;5;28mprint\u001b[39m(password)\n\u001b[1;32m---> 12\u001b[0m \u001b[38;5;28mprint\u001b[39m(acc1\u001b[38;5;241m.\u001b[39m__accpass)\n",
      "\u001b[1;31mAttributeError\u001b[0m: 'Accounts' object has no attribute '__accpass'"
     ]
    }
   ],
   "source": [
    "class Accounts:\n",
    "    def __init__(self,accno,accpass):\n",
    "        self.accno = accno\n",
    "        self.__accpass = accpass #private attributes\n",
    "\n",
    "    def resetpassword(self):\n",
    "        return(self.__accpass)\n",
    "acc1 = Accounts(\"3839\",\"xyz\")\n",
    "print(acc1.accno)\n",
    "password = acc1.resetpassword()\n",
    "print(password)\n",
    "print(acc1.__accpass)\n",
    "        \n",
    "        "
   ]
  },
  {
   "cell_type": "code",
   "execution_count": 76,
   "id": "fa293e05-66fd-4ef0-a398-3c2b6e2511ab",
   "metadata": {},
   "outputs": [
    {
     "name": "stdout",
     "output_type": "stream",
     "text": [
      "hello\n",
      "None\n"
     ]
    }
   ],
   "source": [
    "class Person:\n",
    "    def __hello(self):\n",
    "        print(\"hello\")\n",
    "    def wlcm(self):\n",
    "        self.__hello()\n",
    "\n",
    "p1 = Person()\n",
    "print(p1.wlcm())"
   ]
  },
  {
   "cell_type": "code",
   "execution_count": null,
   "id": "84c4fcf4-69bc-49e0-9921-9f48336a0255",
   "metadata": {},
   "outputs": [],
   "source": [
    "#inheritance"
   ]
  },
  {
   "cell_type": "code",
   "execution_count": 80,
   "id": "4bdf38f5-61fb-468f-9c67-e97103479167",
   "metadata": {},
   "outputs": [
    {
     "name": "stdout",
     "output_type": "stream",
     "text": [
      "iam a vechicle\n",
      "mileage of the vechicle 50\n",
      "cost of the vechicle: 500000\n"
     ]
    }
   ],
   "source": [
    "class Vechicle:\n",
    "    def __init__(self,mileage,cost):\n",
    "        self.mileage = mileage\n",
    "        self.cost = cost\n",
    "\n",
    "    def show_details(self):\n",
    "        print(\"iam a vechicle\")\n",
    "        print(\"mileage of the vechicle\", self.mileage)\n",
    "        print(\"cost of the vechicle:\",self.cost)\n",
    "\n",
    "v1 = Vechicle(50,500000)\n",
    "v1.show_details()"
   ]
  },
  {
   "cell_type": "code",
   "execution_count": 92,
   "id": "8aa0ad2a-e0aa-4872-9379-de5955d6bc3a",
   "metadata": {},
   "outputs": [
    {
     "name": "stdout",
     "output_type": "stream",
     "text": [
      "iam a vechicle\n",
      "mileage of the vechicle 50\n",
      "cost of the vechicle: 5000000\n",
      "iam a car\n"
     ]
    }
   ],
   "source": [
    "class Car (vechicle):\n",
    "    def show_car(self):\n",
    "        print( \"iam a car\")\n",
    "c1 =  Car(50,5000000)\n",
    "c1.show_details()\n",
    "c1.show_car()"
   ]
  },
  {
   "cell_type": "code",
   "execution_count": 94,
   "id": "f30c7566-a0ad-4299-ac01-ade0323d0896",
   "metadata": {},
   "outputs": [],
   "source": [
    "##multiple inheritance"
   ]
  },
  {
   "cell_type": "code",
   "execution_count": 138,
   "id": "030d6fad-45ca-4781-9fcd-ea5ef798c4ab",
   "metadata": {},
   "outputs": [],
   "source": [
    "class parent1:\n",
    "    def assign_str1(self,str1):\n",
    "        self.str1 = str1\n",
    "\n",
    "    def show_str1(self):\n",
    "        return self.str1\n",
    "    "
   ]
  },
  {
   "cell_type": "code",
   "execution_count": 156,
   "id": "80e97d6c-8eb7-488e-be6d-c8f19747f65f",
   "metadata": {},
   "outputs": [],
   "source": [
    "class parent2:\n",
    "    def assign_str2(self,str2):\n",
    "        self.str2 = str2\n",
    "\n",
    "    def show_str2(self):\n",
    "        return self.str2\n",
    "    "
   ]
  },
  {
   "cell_type": "code",
   "execution_count": 158,
   "id": "01512cac-c80b-4b89-b3be-5cddcff251aa",
   "metadata": {},
   "outputs": [],
   "source": [
    "class Derived(parent1,parent2):\n",
    " def assign_str3(self,str3):\n",
    "        self.str3 = str3\n",
    "\n",
    " def show_str3(self):\n",
    "        return self.str3\n",
    "\n",
    "d1 = Derived()\n",
    "d1.assign_str1(\"one\")\n",
    "d1.assign_str2(\"two\")\n",
    "d1.assign_str3(\"three\")"
   ]
  },
  {
   "cell_type": "code",
   "execution_count": 160,
   "id": "0ecf9a04-a184-4d57-b6fa-41995d7dff9a",
   "metadata": {},
   "outputs": [
    {
     "data": {
      "text/plain": [
       "'one'"
      ]
     },
     "execution_count": 160,
     "metadata": {},
     "output_type": "execute_result"
    }
   ],
   "source": [
    "d1.show_str1()"
   ]
  },
  {
   "cell_type": "code",
   "execution_count": 162,
   "id": "0d9e70a8-74e9-451b-b3d5-2647750d07b8",
   "metadata": {},
   "outputs": [],
   "source": [
    "##multi level inheritance"
   ]
  },
  {
   "cell_type": "code",
   "execution_count": 164,
   "id": "dfe8ecb4-3f07-48fd-80e3-bfdc2f349427",
   "metadata": {},
   "outputs": [],
   "source": [
    "class parent:\n",
    "    def assign_name(self,name):\n",
    "        self.name = name\n",
    "\n",
    "    def show_name(self):\n",
    "        return self.name\n",
    "    "
   ]
  },
  {
   "cell_type": "code",
   "execution_count": 166,
   "id": "2647ce1f-cf7f-4c72-93db-7cefd414347f",
   "metadata": {},
   "outputs": [],
   "source": [
    "class Child (parent):\n",
    "    def assign_age(self,age):\n",
    "        self.age = age\n",
    "\n",
    "    def show_age(self):\n",
    "        return self.age\n",
    "    "
   ]
  },
  {
   "cell_type": "code",
   "execution_count": 174,
   "id": "c7e42390-19e6-4e59-a343-eca59e87d20c",
   "metadata": {},
   "outputs": [],
   "source": [
    "class Grandchild (child):\n",
    "    def assign_gender(self,gender):\n",
    "        self.gender = gender\n",
    "\n",
    "    def show_gender(self):\n",
    "        return self.gender\n",
    "    "
   ]
  },
  {
   "cell_type": "code",
   "execution_count": 176,
   "id": "985247fe-8964-47c0-8e82-550af56fd4aa",
   "metadata": {},
   "outputs": [],
   "source": [
    "gc = Grandchild()\n",
    "gc.assign_name(\"reddy\")\n",
    "gc.assign_age(\"18\")\n",
    "gc.assign_gender(\"male\")"
   ]
  },
  {
   "cell_type": "code",
   "execution_count": 180,
   "id": "461bd1b0-3220-4b50-98c0-e78e94ef1878",
   "metadata": {},
   "outputs": [
    {
     "data": {
      "text/plain": [
       "'reddy'"
      ]
     },
     "execution_count": 180,
     "metadata": {},
     "output_type": "execute_result"
    }
   ],
   "source": [
    "gc.show_name()"
   ]
  },
  {
   "cell_type": "code",
   "execution_count": 188,
   "id": "b4904d29-7126-417e-bbc4-c9f8e6441e14",
   "metadata": {},
   "outputs": [
    {
     "data": {
      "text/plain": [
       "'18'"
      ]
     },
     "execution_count": 188,
     "metadata": {},
     "output_type": "execute_result"
    }
   ],
   "source": [
    "gc.show_age()"
   ]
  },
  {
   "cell_type": "code",
   "execution_count": 190,
   "id": "642cd617-e86f-4507-aa85-84d0a666f225",
   "metadata": {},
   "outputs": [
    {
     "data": {
      "text/plain": [
       "'male'"
      ]
     },
     "execution_count": 190,
     "metadata": {},
     "output_type": "execute_result"
    }
   ],
   "source": [
    "gc.show_gender()"
   ]
  },
  {
   "cell_type": "code",
   "execution_count": 1,
   "id": "e723d10c-fd49-41fe-b6d8-28598b890efb",
   "metadata": {},
   "outputs": [],
   "source": [
    "# polymorphism"
   ]
  },
  {
   "cell_type": "code",
   "execution_count": 7,
   "id": "6acf7d9d-262b-422b-8ca7-e5abe2b6a044",
   "metadata": {},
   "outputs": [
    {
     "name": "stdout",
     "output_type": "stream",
     "text": [
      "8\n",
      "8.2\n"
     ]
    }
   ],
   "source": [
    "class Math:\n",
    "    def add(self,a:int,b:int):\n",
    "        return a+b\n",
    "\n",
    "    def add(self,a:float,b:float):\n",
    "        return a+b\n",
    "\n",
    "math = Math()\n",
    "print(math.add(5,3))\n",
    "print(math.add(5.0,3.2))\n",
    "      "
   ]
  },
  {
   "cell_type": "markdown",
   "id": "ba554dcb-d637-48fe-9733-c4ecb79000aa",
   "metadata": {},
   "source": [
    "types of polymorphism:\n",
    "\n",
    "1.overloading : multiple methods with same name but with different parameters"
   ]
  },
  {
   "cell_type": "code",
   "execution_count": 14,
   "id": "cba8c342-9ab4-4689-b803-79f12a71a072",
   "metadata": {},
   "outputs": [
    {
     "name": "stdout",
     "output_type": "stream",
     "text": [
      "nothing to find\n",
      "area of the rectangle: 100\n",
      "area of the rectangle: 200\n"
     ]
    }
   ],
   "source": [
    "## overloading with different number of parameters\n",
    "\n",
    "class Area:\n",
    "  def findarea(self,a=None,b=None):\n",
    "      if a!= None and b!=None:\n",
    "          print(\"area of the rectangle:\",a*b)\n",
    "      elif a!=None:\n",
    "          print(\"area of the rectangle:\",a*a)\n",
    "\n",
    "      else:\n",
    "          print(\"nothing to find\")\n",
    "\n",
    "obj= Area()\n",
    "obj.findarea()\n",
    "obj.findarea(10)\n",
    "obj.findarea(10,20)"
   ]
  },
  {
   "cell_type": "markdown",
   "id": "03a24c06-d874-48e1-9ce3-ecc1acc571f4",
   "metadata": {},
   "source": [
    "##overloading method to handle different data types"
   ]
  },
  {
   "cell_type": "code",
   "execution_count": 17,
   "id": "6ab9f0a4-328f-4e88-bb64-5f853c3f0515",
   "metadata": {},
   "outputs": [
    {
     "name": "stdout",
     "output_type": "stream",
     "text": [
      "sum of the integers 30\n",
      "concatention of the string helloworld\n",
      "invalid datatype or missing arguments\n"
     ]
    }
   ],
   "source": [
    "class Calculator:\n",
    "    def add(self,a=None,b=None):\n",
    "        if isinstance(a,str) and isinstance(b,str):\n",
    "            print(\"concatention of the string\",a+b)\n",
    "        elif isinstance(a,int) and isinstance(b,int):\n",
    "            print(\"sum of the integers\",a+b)\n",
    "        else:\n",
    "            print(\"invalid datatype or missing arguments\")\n",
    "\n",
    "cal = Calculator()\n",
    "cal.add(10,20)\n",
    "cal.add(\"hello\",\"world\")\n",
    "cal.add(10)\n",
    "            "
   ]
  },
  {
   "cell_type": "markdown",
   "id": "75ba1223-726b-470a-a4d0-5bb02ad31932",
   "metadata": {},
   "source": [
    "##overloading method for different shape(circle,square,and rectangle)"
   ]
  },
  {
   "cell_type": "code",
   "execution_count": 36,
   "id": "a34aacd6-3de0-4d64-9735-db7c2c934865",
   "metadata": {},
   "outputs": [
    {
     "name": "stdout",
     "output_type": "stream",
     "text": [
      "area of the circle 153.93804002589985\n",
      "area of the square 16\n",
      "area of the rectangle 50\n",
      "please provide valid dimensions\n"
     ]
    }
   ],
   "source": [
    "import math\n",
    "class Shape:\n",
    "    def area(self,radius=None,side=None,length=None,breadth=None):\n",
    "        if radius is not None:\n",
    "            print(f\"area of the circle {math.pi * radius ** 2}\")\n",
    "        elif side is not None:\n",
    "            print(f\"area of the square {side ** 2}\")\n",
    "        elif length is not None:\n",
    "            print(f\"area of the rectangle {length * breadth}\")\n",
    "        else:\n",
    "            print(\"please provide valid dimensions\")\n",
    "\n",
    "shape = Shape()\n",
    "shape.area(radius = 7)\n",
    "shape.area(side=4)\n",
    "shape.area(length=10,breadth=5)\n",
    "shape.area()\n",
    "                   \n",
    "    "
   ]
  },
  {
   "cell_type": "markdown",
   "id": "9066d955-9642-4830-baca-15946a8afb38",
   "metadata": {},
   "source": [
    "#method overriding: when arrived class provides a specific implementation of a method that is already defined in the base class"
   ]
  },
  {
   "cell_type": "code",
   "execution_count": 50,
   "id": "3895efad-1643-4fcd-b7b2-3605ff71c2b7",
   "metadata": {},
   "outputs": [
    {
     "name": "stdout",
     "output_type": "stream",
     "text": [
      "bark\n",
      "meow\n"
     ]
    }
   ],
   "source": [
    "##basic example\n",
    "\n",
    "class Animal:\n",
    "    def sound(self):\n",
    "        return \"some sound\"\n",
    "\n",
    "class Dog(Animal):\n",
    "    def sound(Self):\n",
    "        return \"bark\"\n",
    "\n",
    "class Cat(Animal):\n",
    "    def sound(self):\n",
    "        return \"meow\"\n",
    "\n",
    "dog = Dog()\n",
    "cat = Cat()\n",
    "print(dog.sound())\n",
    "print(cat.sound())\n"
   ]
  },
  {
   "cell_type": "markdown",
   "id": "f2c279ce-adc8-4bf6-8eae-597e8f3ef4d2",
   "metadata": {},
   "source": [
    "#method overriding with additional functionalities"
   ]
  },
  {
   "cell_type": "code",
   "execution_count": 59,
   "id": "403e79f3-4a58-403a-b00b-214658064b7d",
   "metadata": {},
   "outputs": [
    {
     "name": "stdout",
     "output_type": "stream",
     "text": [
      "vehicle is starting with a roar\n",
      "motorcycle is running\n"
     ]
    }
   ],
   "source": [
    "class Vehicle:\n",
    "    def start(self):\n",
    "        return \"vehicle is starting\"\n",
    "\n",
    "class Car(Vehicle):\n",
    "    def start(self):\n",
    "        base_message = super().start()  # calling the superclass method\n",
    "        return f\"{base_message} with a roar\"\n",
    "\n",
    "class Motorcycle(Vehicle):\n",
    "    def start(self):\n",
    "        return \"motorcycle is running\"\n",
    "\n",
    "car = Car()\n",
    "motorcycle = Motorcycle()\n",
    "\n",
    "print(car.start())\n",
    "print(motorcycle.start())\n"
   ]
  },
  {
   "cell_type": "code",
   "execution_count": 77,
   "id": "e4dbbaf9-70bd-48da-a2b1-5d8090912f85",
   "metadata": {},
   "outputs": [
    {
     "name": "stdout",
     "output_type": "stream",
     "text": [
      "iam a vechicle\n",
      "mileage of vechicle 15\n",
      "cost of the vechicle is 150000\n",
      "iam acar\n",
      "no.of tyresof vechicle 4\n",
      "horse of is  120\n"
     ]
    }
   ],
   "source": [
    "class vechicle:\n",
    "    def __init__(self,mileage,cost):\n",
    "        self.mileage = mileage\n",
    "        self.cost = cost\n",
    "\n",
    "    def showdetails(self):\n",
    "        print(\"iam a vechicle\")\n",
    "        print(\"mileage of vechicle\",self.mileage)\n",
    "        print(\"cost of the vechicle is\",self.cost)\n",
    "\n",
    "class Car(vechicle):\n",
    "    def __init__(self,mileage,cost,tyres,hp):\n",
    "        super().__init__(mileage,cost)\n",
    "        self.tyres = tyres\n",
    "        self.hp = hp\n",
    "\n",
    "    def showdetails(self):\n",
    "        super().showdetails()\n",
    "        print(\"iam acar\")\n",
    "        print(\"no.of tyresof vechicle\",self.tyres)\n",
    "        print(\"horse of is \",self.hp)\n",
    "\n",
    "mycar = Car(15,150000,4,120)\n",
    "mycar.showdetails()"
   ]
  },
  {
   "cell_type": "markdown",
   "id": "d76e7ae0-e461-4a85-9dba-3a0d0bc0e731",
   "metadata": {},
   "source": [
    "## encapsulation"
   ]
  },
  {
   "cell_type": "code",
   "execution_count": 98,
   "id": "487aab00-7fed-4b98-a831-1b45e9713d36",
   "metadata": {},
   "outputs": [
    {
     "name": "stdout",
     "output_type": "stream",
     "text": [
      "New balance after deposit: 105000\n",
      "New balance after withdrawal: 103000\n"
     ]
    }
   ],
   "source": [
    "class BankAccount:\n",
    "    def __init__(self, balance):\n",
    "        self.__balance = balance  # Private attribute for balance\n",
    "\n",
    "    def deposit(self, amount):\n",
    "        if amount > 0:\n",
    "            self.__balance += amount\n",
    "        else:\n",
    "            print(\"Deposit amount should be positive\")\n",
    "\n",
    "    def withdraw(self, amount):\n",
    "        if 0 < amount <= self.__balance:\n",
    "            self.__balance -= amount\n",
    "        else:\n",
    "            print(\"Insufficient funds or invalid amount\")\n",
    "\n",
    "    def get_balance(self):\n",
    "        return self.__balance\n",
    "\n",
    "\n",
    "account = BankAccount(100000)\n",
    "\n",
    "account.deposit(5000)\n",
    "print(\"New balance after deposit:\", account.get_balance())\n",
    "\n",
    "account.withdraw(2000)\n",
    "print(\"New balance after withdrawal:\", account.get_balance())\n"
   ]
  },
  {
   "cell_type": "code",
   "execution_count": null,
   "id": "ed8f50f1-466b-4027-a3e9-ef0b552759e0",
   "metadata": {},
   "outputs": [],
   "source": []
  }
 ],
 "metadata": {
  "kernelspec": {
   "display_name": "Python 3 (ipykernel)",
   "language": "python",
   "name": "python3"
  },
  "language_info": {
   "codemirror_mode": {
    "name": "ipython",
    "version": 3
   },
   "file_extension": ".py",
   "mimetype": "text/x-python",
   "name": "python",
   "nbconvert_exporter": "python",
   "pygments_lexer": "ipython3",
   "version": "3.12.4"
  }
 },
 "nbformat": 4,
 "nbformat_minor": 5
}
