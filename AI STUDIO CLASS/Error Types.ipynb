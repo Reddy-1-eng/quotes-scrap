{
 "cells": [
  {
   "cell_type": "markdown",
   "id": "0670f190",
   "metadata": {},
   "source": [
    "# Python Error Types"
   ]
  },
  {
   "cell_type": "markdown",
   "id": "6a82f2d3",
   "metadata": {},
   "source": [
    "When we write code it is common that we make a typo or some other common error. If our code fails to run, the Python interpreter will display a message, containing feedback with information on where the problem occurs and the type of an error. It will also sometimes gives us suggestions on a possible fix. Understanding different types of errors in programming languages will help us to debug our code quickly and also it makes us better at what we do."
   ]
  },
  {
   "cell_type": "markdown",
   "id": "5293dd85",
   "metadata": {},
   "source": [
    "Let us see the most common error types one by one. First let us open our Python interactive shell. Go to your you computer terminal and write 'python'. The python interactive shell will be opened."
   ]
  },
  {
   "cell_type": "markdown",
   "id": "3eab5f2b",
   "metadata": {},
   "source": [
    "<h2>SyntaxError</h2>"
   ]
  },
  {
   "cell_type": "markdown",
   "id": "fb88fe02",
   "metadata": {},
   "source": [
    "<h3>Example : SyntaxError</h3>"
   ]
  },
  {
   "cell_type": "code",
   "execution_count": 3,
   "id": "7ec498e6",
   "metadata": {},
   "outputs": [
    {
     "ename": "SyntaxError",
     "evalue": "Missing parentheses in call to 'print'. Did you mean print('hello world')? (2134528244.py, line 1)",
     "output_type": "error",
     "traceback": [
      "\u001b[1;36m  Cell \u001b[1;32mIn[3], line 1\u001b[1;36m\u001b[0m\n\u001b[1;33m    print 'hello world'\u001b[0m\n\u001b[1;37m          ^\u001b[0m\n\u001b[1;31mSyntaxError\u001b[0m\u001b[1;31m:\u001b[0m Missing parentheses in call to 'print'. Did you mean print('hello world')?\n"
     ]
    }
   ],
   "source": [
    "print 'hello world'"
   ]
  },
  {
   "cell_type": "markdown",
   "id": "d4bba2a8",
   "metadata": {},
   "source": [
    "As you can see we made a syntax error because we forgot to enclose the string with parenthesis and Python already suggests the solution. Let us fix it."
   ]
  },
  {
   "cell_type": "code",
   "execution_count": 6,
   "id": "ee6ee60e",
   "metadata": {},
   "outputs": [
    {
     "name": "stdout",
     "output_type": "stream",
     "text": [
      "hello world\n"
     ]
    }
   ],
   "source": [
    "print('hello world')"
   ]
  },
  {
   "cell_type": "markdown",
   "id": "cb498036",
   "metadata": {},
   "source": [
    "# NameError"
   ]
  },
  {
   "cell_type": "markdown",
   "id": "006c873d",
   "metadata": {},
   "source": [
    "<h3>Example : NameError</h3>"
   ]
  },
  {
   "cell_type": "code",
   "execution_count": 8,
   "id": "a324f72f",
   "metadata": {},
   "outputs": [
    {
     "ename": "NameError",
     "evalue": "name 'age' is not defined",
     "output_type": "error",
     "traceback": [
      "\u001b[1;31m---------------------------------------------------------------------------\u001b[0m",
      "\u001b[1;31mNameError\u001b[0m                                 Traceback (most recent call last)",
      "Cell \u001b[1;32mIn[8], line 1\u001b[0m\n\u001b[1;32m----> 1\u001b[0m \u001b[38;5;28mprint\u001b[39m(\u001b[43mage\u001b[49m)\n",
      "\u001b[1;31mNameError\u001b[0m: name 'age' is not defined"
     ]
    }
   ],
   "source": [
    "print(age)"
   ]
  },
  {
   "cell_type": "markdown",
   "id": "66037091",
   "metadata": {},
   "source": [
    "As you can see from the message above, name age is not defined. Yes, it is true that we did not define an age variable but we were trying to print it out as if we had had declared it. Now, lets fix this by declaring it and assigning with a value."
   ]
  },
  {
   "cell_type": "code",
   "execution_count": 9,
   "id": "3bcc228b",
   "metadata": {},
   "outputs": [
    {
     "name": "stdout",
     "output_type": "stream",
     "text": [
      "25\n"
     ]
    }
   ],
   "source": [
    "age = 25\n",
    "print(age)"
   ]
  },
  {
   "cell_type": "markdown",
   "id": "54c81c1e",
   "metadata": {},
   "source": [
    "The type of error was a NameError. We debugged the error by defining the variable name."
   ]
  },
  {
   "cell_type": "markdown",
   "id": "585c8336",
   "metadata": {},
   "source": [
    "# IndexError"
   ]
  },
  {
   "cell_type": "markdown",
   "id": "a6000da5",
   "metadata": {},
   "source": [
    "<h3>Example : IndexError</h3>"
   ]
  },
  {
   "cell_type": "code",
   "execution_count": 12,
   "id": "bf477feb",
   "metadata": {},
   "outputs": [
    {
     "ename": "IndexError",
     "evalue": "list index out of range",
     "output_type": "error",
     "traceback": [
      "\u001b[1;31m---------------------------------------------------------------------------\u001b[0m",
      "\u001b[1;31mIndexError\u001b[0m                                Traceback (most recent call last)",
      "Cell \u001b[1;32mIn[12], line 2\u001b[0m\n\u001b[0;32m      1\u001b[0m numbers \u001b[38;5;241m=\u001b[39m [\u001b[38;5;241m1\u001b[39m, \u001b[38;5;241m2\u001b[39m, \u001b[38;5;241m3\u001b[39m, \u001b[38;5;241m4\u001b[39m, \u001b[38;5;241m5\u001b[39m]\n\u001b[1;32m----> 2\u001b[0m \u001b[43mnumbers\u001b[49m\u001b[43m[\u001b[49m\u001b[38;5;241;43m5\u001b[39;49m\u001b[43m]\u001b[49m\n",
      "\u001b[1;31mIndexError\u001b[0m: list index out of range"
     ]
    }
   ],
   "source": [
    "numbers = [1, 2, 3, 4, 5]\n",
    "numbers[5]"
   ]
  },
  {
   "cell_type": "markdown",
   "id": "cd6ef6e2",
   "metadata": {},
   "source": [
    "In the example above, Python raised an IndexError, because the list has only indexes from 0 to 4 , so it was out of range."
   ]
  },
  {
   "cell_type": "markdown",
   "id": "fa787d84",
   "metadata": {},
   "source": [
    "# ModuleNotFoundError"
   ]
  },
  {
   "cell_type": "markdown",
   "id": "1f978990",
   "metadata": {},
   "source": [
    "<h3>Example 1: ModuleNotFoundError</h3>"
   ]
  },
  {
   "cell_type": "code",
   "execution_count": 13,
   "id": "f22056e7",
   "metadata": {},
   "outputs": [
    {
     "ename": "ModuleNotFoundError",
     "evalue": "No module named 'maths'",
     "output_type": "error",
     "traceback": [
      "\u001b[1;31m---------------------------------------------------------------------------\u001b[0m",
      "\u001b[1;31mModuleNotFoundError\u001b[0m                       Traceback (most recent call last)",
      "Cell \u001b[1;32mIn[13], line 1\u001b[0m\n\u001b[1;32m----> 1\u001b[0m \u001b[38;5;28;01mimport\u001b[39;00m \u001b[38;5;21;01mmaths\u001b[39;00m\n",
      "\u001b[1;31mModuleNotFoundError\u001b[0m: No module named 'maths'"
     ]
    }
   ],
   "source": [
    "import maths"
   ]
  },
  {
   "cell_type": "markdown",
   "id": "092b3d55",
   "metadata": {},
   "source": [
    "In the example above, I added an extra s to math deliberately and ModuleNotFoundError was raised. Lets fix it by removing the extra s from math."
   ]
  },
  {
   "cell_type": "code",
   "execution_count": 15,
   "id": "6b14c8b7",
   "metadata": {},
   "outputs": [],
   "source": [
    "#import maths\n",
    "import math"
   ]
  },
  {
   "cell_type": "markdown",
   "id": "0006400c",
   "metadata": {},
   "source": [
    "# AttributeError"
   ]
  },
  {
   "cell_type": "markdown",
   "id": "5fdd3d9b",
   "metadata": {},
   "source": [
    "<h3>Example 1: AttributeError</h3>"
   ]
  },
  {
   "cell_type": "code",
   "execution_count": 18,
   "id": "f3c6345b",
   "metadata": {},
   "outputs": [
    {
     "ename": "AttributeError",
     "evalue": "module 'math' has no attribute 'PI'",
     "output_type": "error",
     "traceback": [
      "\u001b[1;31m---------------------------------------------------------------------------\u001b[0m",
      "\u001b[1;31mAttributeError\u001b[0m                            Traceback (most recent call last)",
      "Cell \u001b[1;32mIn[18], line 3\u001b[0m\n\u001b[0;32m      1\u001b[0m \u001b[38;5;66;03m#import maths\u001b[39;00m\n\u001b[0;32m      2\u001b[0m \u001b[38;5;28;01mimport\u001b[39;00m \u001b[38;5;21;01mmath\u001b[39;00m\n\u001b[1;32m----> 3\u001b[0m \u001b[43mmath\u001b[49m\u001b[38;5;241;43m.\u001b[39;49m\u001b[43mPI\u001b[49m\n",
      "\u001b[1;31mAttributeError\u001b[0m: module 'math' has no attribute 'PI'"
     ]
    }
   ],
   "source": [
    "#import maths\n",
    "import math\n",
    "math.PI"
   ]
  },
  {
   "cell_type": "markdown",
   "id": "1ae0d799",
   "metadata": {},
   "source": [
    "As you can see, I made a mistake again! Instead of pi, I tried to call a PI function from maths module. It raised an attribute error, it means, that the function does not exist in the module. Lets fix it by changing from PI to pi."
   ]
  },
  {
   "cell_type": "code",
   "execution_count": 19,
   "id": "47d548d0",
   "metadata": {},
   "outputs": [
    {
     "data": {
      "text/plain": [
       "3.141592653589793"
      ]
     },
     "execution_count": 19,
     "metadata": {},
     "output_type": "execute_result"
    }
   ],
   "source": [
    "#import maths\n",
    "import math\n",
    "#math.PI\n",
    "math.pi"
   ]
  },
  {
   "cell_type": "markdown",
   "id": "9c57eea9",
   "metadata": {},
   "source": [
    "Now, when we call pi from the math module we got the result."
   ]
  },
  {
   "cell_type": "markdown",
   "id": "e63a11e2",
   "metadata": {},
   "source": [
    "# KeyError"
   ]
  },
  {
   "cell_type": "markdown",
   "id": "e2b37499",
   "metadata": {},
   "source": [
    "<h3>Example : KeyError</h3>"
   ]
  },
  {
   "cell_type": "code",
   "execution_count": 23,
   "id": "4d8df84f",
   "metadata": {},
   "outputs": [
    {
     "data": {
      "text/plain": [
       "'Asab'"
      ]
     },
     "execution_count": 23,
     "metadata": {},
     "output_type": "execute_result"
    }
   ],
   "source": [
    "users = {'name':'Asab', 'age':250, 'country':'Finland'}\n",
    "users['name']"
   ]
  },
  {
   "cell_type": "code",
   "execution_count": 40,
   "id": "65e747e5",
   "metadata": {},
   "outputs": [
    {
     "data": {
      "text/plain": [
       "'Finland'"
      ]
     },
     "execution_count": 40,
     "metadata": {},
     "output_type": "execute_result"
    }
   ],
   "source": [
    "users['country']"
   ]
  },
  {
   "cell_type": "markdown",
   "id": "cb9d2111",
   "metadata": {},
   "source": [
    "As you can see, there was a typo in the key used to get the dictionary value. so, this is a key error and the fix is quite straight forward. Let's do this!"
   ]
  },
  {
   "cell_type": "code",
   "execution_count": 27,
   "id": "6b1e54b1",
   "metadata": {},
   "outputs": [
    {
     "data": {
      "text/plain": [
       "'Finland'"
      ]
     },
     "execution_count": 27,
     "metadata": {},
     "output_type": "execute_result"
    }
   ],
   "source": [
    "users['country']"
   ]
  },
  {
   "cell_type": "markdown",
   "id": "17782bb2",
   "metadata": {},
   "source": [
    "debug the error, run the code and get the value."
   ]
  },
  {
   "cell_type": "markdown",
   "id": "7957194f",
   "metadata": {},
   "source": [
    "# TypeError"
   ]
  },
  {
   "cell_type": "markdown",
   "id": "aa6db802",
   "metadata": {},
   "source": [
    "<h3>Example : TypeError</h3>"
   ]
  },
  {
   "cell_type": "code",
   "execution_count": 29,
   "id": "20ad3579",
   "metadata": {},
   "outputs": [
    {
     "ename": "TypeError",
     "evalue": "unsupported operand type(s) for +: 'int' and 'str'",
     "output_type": "error",
     "traceback": [
      "\u001b[1;31m---------------------------------------------------------------------------\u001b[0m",
      "\u001b[1;31mTypeError\u001b[0m                                 Traceback (most recent call last)",
      "Cell \u001b[1;32mIn[29], line 1\u001b[0m\n\u001b[1;32m----> 1\u001b[0m \u001b[38;5;241;43m4\u001b[39;49m\u001b[43m \u001b[49m\u001b[38;5;241;43m+\u001b[39;49m\u001b[43m \u001b[49m\u001b[38;5;124;43m'\u001b[39;49m\u001b[38;5;124;43m3\u001b[39;49m\u001b[38;5;124;43m'\u001b[39;49m\n",
      "\u001b[1;31mTypeError\u001b[0m: unsupported operand type(s) for +: 'int' and 'str'"
     ]
    }
   ],
   "source": [
    "4 + '3'"
   ]
  },
  {
   "cell_type": "markdown",
   "id": "bf8bc1d5",
   "metadata": {},
   "source": [
    "In the example above, a TypeError is raised because we cannot add a number to a string. First solution would be to convert the string to int or float. Another solution would be converting the number to a string (the result then would be '43'). Let us follow the first fix."
   ]
  },
  {
   "cell_type": "code",
   "execution_count": 30,
   "id": "24ed3b68",
   "metadata": {},
   "outputs": [
    {
     "data": {
      "text/plain": [
       "7"
      ]
     },
     "execution_count": 30,
     "metadata": {},
     "output_type": "execute_result"
    }
   ],
   "source": [
    "4 + int('3')"
   ]
  },
  {
   "cell_type": "code",
   "execution_count": 31,
   "id": "1d473b4a",
   "metadata": {},
   "outputs": [
    {
     "data": {
      "text/plain": [
       "7.0"
      ]
     },
     "execution_count": 31,
     "metadata": {},
     "output_type": "execute_result"
    }
   ],
   "source": [
    "4 + float('3')"
   ]
  },
  {
   "cell_type": "markdown",
   "id": "59321828",
   "metadata": {},
   "source": [
    "# ImportError"
   ]
  },
  {
   "cell_type": "markdown",
   "id": "fe5bd85d",
   "metadata": {},
   "source": [
    "<h3>Example : ImportError</h3>"
   ]
  },
  {
   "cell_type": "code",
   "execution_count": 33,
   "id": "372be61a",
   "metadata": {},
   "outputs": [
    {
     "ename": "ImportError",
     "evalue": "cannot import name 'power' from 'math' (unknown location)",
     "output_type": "error",
     "traceback": [
      "\u001b[1;31m---------------------------------------------------------------------------\u001b[0m",
      "\u001b[1;31mImportError\u001b[0m                               Traceback (most recent call last)",
      "Cell \u001b[1;32mIn[33], line 1\u001b[0m\n\u001b[1;32m----> 1\u001b[0m \u001b[38;5;28;01mfrom\u001b[39;00m \u001b[38;5;21;01mmath\u001b[39;00m \u001b[38;5;28;01mimport\u001b[39;00m power\n",
      "\u001b[1;31mImportError\u001b[0m: cannot import name 'power' from 'math' (unknown location)"
     ]
    }
   ],
   "source": [
    "from math import power"
   ]
  },
  {
   "cell_type": "markdown",
   "id": "26a600b8",
   "metadata": {},
   "source": [
    "There is no function called power in the math module, it goes with a different name: pow. Let's correct it:"
   ]
  },
  {
   "cell_type": "code",
   "execution_count": 34,
   "id": "b656dc79",
   "metadata": {},
   "outputs": [],
   "source": [
    "from math import pow"
   ]
  },
  {
   "cell_type": "code",
   "execution_count": 35,
   "id": "49e7ddd9",
   "metadata": {},
   "outputs": [
    {
     "data": {
      "text/plain": [
       "8.0"
      ]
     },
     "execution_count": 35,
     "metadata": {},
     "output_type": "execute_result"
    }
   ],
   "source": [
    "pow(2,3)"
   ]
  },
  {
   "cell_type": "markdown",
   "id": "a12a38fc",
   "metadata": {},
   "source": [
    "# ValueError"
   ]
  },
  {
   "cell_type": "code",
   "execution_count": 36,
   "id": "9f531124",
   "metadata": {},
   "outputs": [
    {
     "ename": "ValueError",
     "evalue": "invalid literal for int() with base 10: '12a'",
     "output_type": "error",
     "traceback": [
      "\u001b[1;31m---------------------------------------------------------------------------\u001b[0m",
      "\u001b[1;31mValueError\u001b[0m                                Traceback (most recent call last)",
      "Cell \u001b[1;32mIn[36], line 1\u001b[0m\n\u001b[1;32m----> 1\u001b[0m \u001b[38;5;28;43mint\u001b[39;49m\u001b[43m(\u001b[49m\u001b[38;5;124;43m'\u001b[39;49m\u001b[38;5;124;43m12a\u001b[39;49m\u001b[38;5;124;43m'\u001b[39;49m\u001b[43m)\u001b[49m\n",
      "\u001b[1;31mValueError\u001b[0m: invalid literal for int() with base 10: '12a'"
     ]
    }
   ],
   "source": [
    "int('12a')"
   ]
  },
  {
   "cell_type": "markdown",
   "id": "c4194016",
   "metadata": {},
   "source": [
    "In this case we cannot change the given string to a number, because of the 'a' letter in it."
   ]
  },
  {
   "cell_type": "markdown",
   "id": "c6602b2d",
   "metadata": {},
   "source": [
    "# ZeroDivisionError"
   ]
  },
  {
   "cell_type": "code",
   "execution_count": 37,
   "id": "f12e016c",
   "metadata": {},
   "outputs": [
    {
     "ename": "ZeroDivisionError",
     "evalue": "division by zero",
     "output_type": "error",
     "traceback": [
      "\u001b[1;31m---------------------------------------------------------------------------\u001b[0m",
      "\u001b[1;31mZeroDivisionError\u001b[0m                         Traceback (most recent call last)",
      "Cell \u001b[1;32mIn[37], line 1\u001b[0m\n\u001b[1;32m----> 1\u001b[0m \u001b[38;5;241;43m1\u001b[39;49m\u001b[38;5;241;43m/\u001b[39;49m\u001b[38;5;241;43m0\u001b[39;49m\n",
      "\u001b[1;31mZeroDivisionError\u001b[0m: division by zero"
     ]
    }
   ],
   "source": [
    "1/0"
   ]
  },
  {
   "cell_type": "markdown",
   "id": "32612897",
   "metadata": {},
   "source": [
    "We cannot divide a number by zero."
   ]
  },
  {
   "cell_type": "code",
   "execution_count": null,
   "id": "c1d522f1",
   "metadata": {},
   "outputs": [],
   "source": []
  }
 ],
 "metadata": {
  "kernelspec": {
   "display_name": "gpu",
   "language": "python",
   "name": "gpu"
  },
  "language_info": {
   "codemirror_mode": {
    "name": "ipython",
    "version": 3
   },
   "file_extension": ".py",
   "mimetype": "text/x-python",
   "name": "python",
   "nbconvert_exporter": "python",
   "pygments_lexer": "ipython3",
   "version": "3.9.18"
  }
 },
 "nbformat": 4,
 "nbformat_minor": 5
}
