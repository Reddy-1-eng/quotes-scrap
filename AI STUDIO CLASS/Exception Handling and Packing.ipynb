{
 "cells": [
  {
   "cell_type": "markdown",
   "id": "38e84c4a",
   "metadata": {},
   "source": [
    "try:\n",
    "    code in this block if things go well\n",
    "    \n",
    "    \n",
    "except:\n",
    "    code in this block run if things go wrong"
   ]
  },
  {
   "cell_type": "code",
   "execution_count": null,
   "id": "407b6ece",
   "metadata": {},
   "outputs": [],
   "source": [
    "try:\n",
    "    print(10 + 5)\n",
    "except:\n",
    "    print('Something went wrong')"
   ]
  },
  {
   "cell_type": "markdown",
   "id": "60c8e3da",
   "metadata": {},
   "source": [
    "In the example above the second operand is a string. \n",
    "We could change it to float or int to add it with the number to make it work. \n",
    "But without any changes, the second block, except, will be executed."
   ]
  },
  {
   "cell_type": "code",
   "execution_count": null,
   "id": "c7e351df",
   "metadata": {},
   "outputs": [],
   "source": [
    "try:\n",
    "    name = input('Enter your name:')\n",
    "    year_born = input('Year you were born:')\n",
    "    age = 2019 - year_born\n",
    "    print(f'You are {name}. And your age is {age}.')\n",
    "except:\n",
    "    print('Something went wrong')"
   ]
  },
  {
   "cell_type": "markdown",
   "id": "d832afaf",
   "metadata": {},
   "source": [
    "In the above example, \n",
    "the exception block will run and we do not know exactly the problem. \n",
    "To analyze the problem, we can use the different error types with except.\n",
    "\n",
    "In the following example, \n",
    "it will handle the error and will also tell us the kind of error raised."
   ]
  },
  {
   "cell_type": "code",
   "execution_count": null,
   "id": "1e1a0be2",
   "metadata": {},
   "outputs": [],
   "source": [
    "try:\n",
    "    name = input('Enter your name:')\n",
    "    year_born = int(input('Year you were born:'))\n",
    "    age = 2019 - year_born\n",
    "    print(f'You are {name}. And your age is {age}.')\n",
    "except TypeError:\n",
    "    print('Type error occured')\n",
    "except ValueError:\n",
    "    print('Value error occured')\n",
    "except ZeroDivisionError:\n",
    "    print('zero division error occured')"
   ]
  },
  {
   "cell_type": "markdown",
   "id": "09deee9c",
   "metadata": {},
   "source": [
    "In the code above the output is going to be TypeError. \n",
    "\n",
    "Now, let's add an additional block:"
   ]
  },
  {
   "cell_type": "code",
   "execution_count": null,
   "id": "390fa993",
   "metadata": {},
   "outputs": [],
   "source": [
    "try:\n",
    "    name = input('Enter your name:')\n",
    "    year_born = input('Year you born:')\n",
    "    age = 2019 - int(year_born)\n",
    "    print(f'You are {name}. And your age is {age}.')\n",
    "except TypeError:\n",
    "    print('Type error occur')\n",
    "except ValueError:\n",
    "    print('Value error occur')\n",
    "except ZeroDivisionError:\n",
    "    print('zero division error occur')\n",
    "else:\n",
    "    print('I usually run with the try block')\n",
    "finally:\n",
    "    print('I alway run.')"
   ]
  },
  {
   "cell_type": "markdown",
   "id": "a99feaca",
   "metadata": {},
   "source": [
    "It is also shorten the above code as follows:"
   ]
  },
  {
   "cell_type": "code",
   "execution_count": null,
   "id": "5e0770dc",
   "metadata": {},
   "outputs": [],
   "source": [
    "try:\n",
    "    name = input('Enter your name:')\n",
    "    year_born = input('Year you born:')\n",
    "    age = 2019 - int(year_born)\n",
    "    print(f'You are {name}. And your age is {age}.')\n",
    "except Exception as e:\n",
    "    print(e)\n",
    "finally:\n",
    "    print('it has to run')"
   ]
  },
  {
   "cell_type": "markdown",
   "id": "4444dab7",
   "metadata": {},
   "source": [
    "# Packing and Unpacking Arguments in Python"
   ]
  },
  {
   "cell_type": "markdown",
   "id": "f815d4c4",
   "metadata": {},
   "source": [
    "We use two operators:\n",
    "\n",
    "<p>*for tuples</p>\n",
    "<p>**for dictionaries</p>\n",
    "\n",
    "<p>Let us take as an example below. It takes only arguments but we have list. We can unpack the list and changes to argument.</p>\n",
    "\n",
    "<h2>Unpacking</h2>\n",
    "<h3>Unpacking Lists</h3>"
   ]
  },
  {
   "cell_type": "code",
   "execution_count": null,
   "id": "edfa331c",
   "metadata": {},
   "outputs": [],
   "source": [
    "def sum_of_five_nums(a, b, c, d, e):\n",
    "    return a + b + c + d + e\n",
    "\n",
    "lst = [1, 2, 3, 4, 5]\n",
    "print(sum_of_five_nums(lst)) \n",
    "# TypeError: sum_of_five_nums() missing 4 required positional arguments: 'b', 'c', 'd', and 'e'"
   ]
  },
  {
   "cell_type": "markdown",
   "id": "3606bed0",
   "metadata": {},
   "source": [
    "<p><h4>When we run the this code, it raises an error, \n",
    "because this function takes numbers (not a list) as arguments. \n",
    "Let us unpack/destructure the list.<h4></p>"
   ]
  },
  {
   "cell_type": "code",
   "execution_count": null,
   "id": "dfb7247d",
   "metadata": {},
   "outputs": [],
   "source": [
    "def sum_of_five_nums(a, b, c, d, e):\n",
    "    return a + b + c + d + e\n",
    "\n",
    "lst = [1, 2, 3, 4, 5]\n",
    "print(sum_of_five_nums(*lst))  # 15"
   ]
  },
  {
   "cell_type": "markdown",
   "id": "d74cd6cf",
   "metadata": {},
   "source": [
    "We can also use unpacking in the range built-in function \n",
    "that expects a start and an end."
   ]
  },
  {
   "cell_type": "code",
   "execution_count": null,
   "id": "fc5da492",
   "metadata": {},
   "outputs": [],
   "source": [
    "numbers = range(2, 100)  # normal call with separate arguments\n",
    "print(list(numbers)) # [2, 3, 4, 5, 6]\n",
    "args = [2, 100]\n",
    "numbers = range(*args)  # call with arguments unpacked from a list\n",
    "print(numbers)      # [2, 3, 4, 5,6]"
   ]
  },
  {
   "cell_type": "markdown",
   "id": "3fe76d79",
   "metadata": {},
   "source": [
    "A list or a tuple can also be unpacked like this:"
   ]
  },
  {
   "cell_type": "code",
   "execution_count": null,
   "id": "d9e2a8c8",
   "metadata": {},
   "outputs": [],
   "source": [
    "countries = ['Finland', 'Sweden', 'Norway', 'Denmark', 'Iceland']\n",
    "fin, sw, nor, *abc = countries\n",
    "print(fin, sw, nor, abc)   # Finland Sweden Norway ['Denmark', 'Iceland']\n",
    "numbers = [1, 2, 3, 4, 5, 6, 7]\n",
    "one, middle, *last = numbers\n",
    "print(one, middle, last)      #  1 [2, 3, 4, 5, 6] 7"
   ]
  },
  {
   "cell_type": "code",
   "execution_count": null,
   "id": "0afa067a",
   "metadata": {},
   "outputs": [],
   "source": [
    "dict: {\n",
    "    'name': \"pankaj\",\n",
    "    'place': \"delhi\"\n",
    "}"
   ]
  },
  {
   "cell_type": "markdown",
   "id": "18329926",
   "metadata": {},
   "source": [
    "Unpacking Dictionaries"
   ]
  },
  {
   "cell_type": "code",
   "execution_count": 2,
   "id": "812934cb",
   "metadata": {},
   "outputs": [
    {
     "name": "stdout",
     "output_type": "stream",
     "text": [
      "pankaj lives in Finland, Helsinki. He is 250 year old.\n"
     ]
    }
   ],
   "source": [
    "def unpacking_person_info(names, country, city, age):\n",
    "    return f'{names} lives in {country}, {city}. He is {age} year old.'\n",
    "dct = {\n",
    "    'names':'pankaj', \n",
    "    'country':'Finland', \n",
    "    'city':'Helsinki', \n",
    "    'age':250\n",
    "}\n",
    "print(unpacking_person_info(**dct)) # Asabeneh lives in Finland, Helsinki. He is 250 years old."
   ]
  },
  {
   "cell_type": "markdown",
   "id": "3ecbf791",
   "metadata": {},
   "source": [
    "<h3>Packing</h3>\n",
    "\n",
    "<p>Sometimes we never know how many arguments need to be passed to a python</p> \n",
    "<p>function. We can use the packing method to allow our function to take</p>\n",
    "<p>unlimited number or arbitrary number of arguments.</p>\n",
    "\n",
    "<h3>Packing Lists</h3>"
   ]
  },
  {
   "cell_type": "code",
   "execution_count": 8,
   "id": "6f9590ba",
   "metadata": {},
   "outputs": [
    {
     "name": "stdout",
     "output_type": "stream",
     "text": [
      "6\n",
      "28\n"
     ]
    }
   ],
   "source": [
    "def sum_all(*args):\n",
    "    s = 0\n",
    "    for i in args:\n",
    "        s += i\n",
    "    return s\n",
    "a =[1,2,3]\n",
    "print(sum_all(1,2,3))             # 6\n",
    "print(sum_all(1, 2, 3, 4, 5, 6, 7)) # 28"
   ]
  },
  {
   "cell_type": "markdown",
   "id": "3c8ab1b9",
   "metadata": {},
   "source": [
    "<h3>Packing Dictionaries</h3>"
   ]
  },
  {
   "cell_type": "code",
   "execution_count": 12,
   "id": "be299c16",
   "metadata": {},
   "outputs": [
    {
     "name": "stdout",
     "output_type": "stream",
     "text": [
      "name\n",
      "name = pankaj\n",
      "country\n",
      "country = Finland\n",
      "city\n",
      "city = Helsinki\n",
      "age\n",
      "age = 250\n",
      "{'name': 'pankaj', 'country': 'Finland', 'city': 'Helsinki', 'age': 250}\n"
     ]
    }
   ],
   "source": [
    "def packing_person_info(**kwargs):\n",
    "    # check the type of kwargs and it is a dict type\n",
    "    # print(type(kwargs))\n",
    "    # Printing dictionary items\n",
    "    for key in kwargs:\n",
    "        print(key)\n",
    "        print(f\"{key} = {kwargs[key]}\")\n",
    "    return kwargs\n",
    "\n",
    "print(packing_person_info(name=\"pankaj\",\n",
    "      country=\"Finland\", city=\"Helsinki\", age=250))"
   ]
  },
  {
   "cell_type": "markdown",
   "id": "0eaf8b05",
   "metadata": {},
   "source": [
    "<h3>Spreading in Python</h3>\n",
    "\n",
    "<p>Like in JavaScript, spreading is possible in Python. \n",
    "Let us check it in an example below:</p>"
   ]
  },
  {
   "cell_type": "code",
   "execution_count": 21,
   "id": "bca75172",
   "metadata": {},
   "outputs": [
    {
     "name": "stdout",
     "output_type": "stream",
     "text": [
      "[1, 2, 3, 4, 5, 6, 7]\n",
      "[0, 1, 2, 3, 4, 5, 6, 7, 1, 2, 3, 4, 5, 6, 7]\n",
      "['india', 'Finland', 'Sweden', 'Norway', 'Denmark', 'Iceland']\n"
     ]
    }
   ],
   "source": [
    "lst_one = [1, 2, 3]\n",
    "lst_two = [4, 5, 6, 7]\n",
    "sp_lst_one = [*lst_one,*lst_two]\n",
    "print(sp_lst_one)\n",
    "lst = [0, *lst_one, *lst_two,*sp_lst_one]\n",
    "print(lst)          # [0, 1, 2, 3, 4, 5, 6, 7]\n",
    "country_lst_one = ['Finland', 'Sweden', 'Norway']\n",
    "country_lst_two = ['Denmark', 'Iceland']\n",
    "nordic_countries = ['india',*country_lst_one, *country_lst_two]\n",
    "print(nordic_countries)  # ['Finland', 'Sweden', 'Norway', 'Denmark', 'Iceland']"
   ]
  },
  {
   "cell_type": "markdown",
   "id": "4f8ede78",
   "metadata": {},
   "source": [
    "<p>If we need an index of a list,</p>\n",
    "<p>we can use <b>enumerate</b> built-in function to get the index of each item in the list.</p>"
   ]
  },
  {
   "cell_type": "code",
   "execution_count": null,
   "id": "8b7db403",
   "metadata": {},
   "outputs": [],
   "source": [
    "for index, item in enumerate([20, 30, 40]):\n",
    "    print(index, item)"
   ]
  },
  {
   "cell_type": "code",
   "execution_count": 25,
   "id": "f72f4c26",
   "metadata": {},
   "outputs": [
    {
     "name": "stdout",
     "output_type": "stream",
     "text": [
      "hi\n",
      "hi\n",
      "hi\n",
      "The country Norway has been found at index 2\n",
      "hi\n",
      "hi\n"
     ]
    }
   ],
   "source": [
    "countries = ['Finland', 'Sweden', 'Norway', 'Denmark', 'Iceland']\n",
    "for i, country in enumerate(countries):\n",
    "    print('hi')\n",
    "    if country == 'Norway':\n",
    "        print(f'The country {country} has been found at index {i}')"
   ]
  },
  {
   "cell_type": "markdown",
   "id": "567ea0c4",
   "metadata": {},
   "source": [
    "<h3>Zip</h3>\n",
    "\n",
    "<p>Sometimes we would like to combine lists when looping through them.</p>\n",
    "\n",
    "<p>See the example below:</p>"
   ]
  },
  {
   "cell_type": "code",
   "execution_count": 28,
   "id": "05c79b0c",
   "metadata": {},
   "outputs": [
    {
     "name": "stdout",
     "output_type": "stream",
     "text": [
      "banana Tomato\n",
      "orange Potato\n",
      "mango Cabbage\n",
      "lemon Onion\n",
      "lime Carrot\n",
      "[{'fruit': 'banana', 'veg': 'Tomato'}, {'fruit': 'orange', 'veg': 'Potato'}, {'fruit': 'mango', 'veg': 'Cabbage'}, {'fruit': 'lemon', 'veg': 'Onion'}, {'fruit': 'lime', 'veg': 'Carrot'}]\n"
     ]
    }
   ],
   "source": [
    "fruits = ['banana', 'orange', 'mango', 'lemon', 'lime']                    \n",
    "vegetables = ['Tomato', 'Potato', 'Cabbage','Onion', 'Carrot']\n",
    "fruits_and_veges = []\n",
    "for f, v in zip(fruits, vegetables):\n",
    "    print(f'{f}',f'{v}')\n",
    "    fruits_and_veges.append({'fruit':f, 'veg':v})\n",
    "\n",
    "print(fruits_and_veges)"
   ]
  },
  {
   "cell_type": "markdown",
   "id": "00582d10",
   "metadata": {},
   "source": [
    "# Exercise"
   ]
  },
  {
   "cell_type": "markdown",
   "id": "aba67a11",
   "metadata": {},
   "source": [
    "<p>names = ['Finland', 'Sweden', 'Norway','Denmark','Iceland', 'Estonia','Russia'].</p>\n",
    "<p>Unpack the first five countries and store them in a variable nordic_countries,</p>\n",
    "store Estonia and Russia in es, and ru respectively.</p>"
   ]
  },
  {
   "cell_type": "code",
   "execution_count": null,
   "id": "c9c2deed",
   "metadata": {},
   "outputs": [],
   "source": []
  }
 ],
 "metadata": {
  "kernelspec": {
   "display_name": "gpu",
   "language": "python",
   "name": "gpu"
  },
  "language_info": {
   "codemirror_mode": {
    "name": "ipython",
    "version": 3
   },
   "file_extension": ".py",
   "mimetype": "text/x-python",
   "name": "python",
   "nbconvert_exporter": "python",
   "pygments_lexer": "ipython3",
   "version": "3.9.18"
  }
 },
 "nbformat": 4,
 "nbformat_minor": 5
}
