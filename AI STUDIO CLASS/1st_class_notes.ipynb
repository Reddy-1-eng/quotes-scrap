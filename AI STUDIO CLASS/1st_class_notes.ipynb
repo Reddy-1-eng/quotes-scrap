{
  "nbformat": 4,
  "nbformat_minor": 0,
  "metadata": {
    "colab": {
      "provenance": []
    },
    "kernelspec": {
      "name": "python3",
      "display_name": "Python 3"
    },
    "language_info": {
      "name": "python"
    }
  },
  "cells": [
    {
      "cell_type": "code",
      "execution_count": 4,
      "metadata": {
        "colab": {
          "base_uri": "https://localhost:8080/"
        },
        "id": "0scksokVG2_e",
        "outputId": "4940a45d-3b31-4b57-dc9f-219d48917c9c"
      },
      "outputs": [
        {
          "output_type": "stream",
          "name": "stdout",
          "text": [
            "Phone features black 100000 samsam\n"
          ]
        }
      ],
      "source": [
        "class Phone:\n",
        "  def make_call(self):\n",
        "    print(\"Making phone call\")\n",
        "\n",
        "  def play_game(self):\n",
        "    print(\"Playing a game\")\n",
        "\n",
        "  def set_color(self,color,cost,brand):\n",
        "    self.color = color\n",
        "    self.cost = cost\n",
        "    self.brand = brand\n",
        "    print(\"Phone features\",self.color,self.cost,self.brand)\n",
        "\n",
        "\n",
        "\n",
        "\n",
        "\n",
        "p1 = Phone()\n",
        "#p2 = Phone()\n",
        "p1.set_color('black',100000,'samsam')\n"
      ]
    },
    {
      "cell_type": "code",
      "source": [
        "## Constructor\n",
        "\n",
        "class Employee:\n",
        "  def __init__(self,name, age, salary, gender):\n",
        "    self.name = name\n",
        "    self.age = age\n",
        "    self.salary = salary\n",
        "    self.gender = gender\n",
        "\n",
        "  def employee_detail(self):\n",
        "    print(\"Name of an emplyee:\",self.name)\n",
        "    print(\"Age of an emplyee:\",self.age)\n",
        "    print(\"Salary of an emplyee:\",self.salary)\n",
        "    print(\"Gender of an emplyee:\",self.gender)\n",
        "\n",
        "E1 = Employee(\"Sam\",34,50000,\"M\")\n",
        "E1.employee_detail()\n"
      ],
      "metadata": {
        "colab": {
          "base_uri": "https://localhost:8080/"
        },
        "id": "bHznXXzsIUl2",
        "outputId": "590ef70e-321c-4e37-8a50-98b7f9f8c5c4"
      },
      "execution_count": 5,
      "outputs": [
        {
          "output_type": "stream",
          "name": "stdout",
          "text": [
            "Name of an emplyee: Sam\n",
            "Age of an emplyee: 34\n",
            "Salary of an emplyee: 50000\n",
            "Gender of an emplyee: M\n"
          ]
        }
      ]
    },
    {
      "cell_type": "markdown",
      "source": [
        "Create Students class that take name & marks of 3 subjects as arguments in constructor. Then create a method to print average marks of the students"
      ],
      "metadata": {
        "id": "QSsxlo7EOCnn"
      }
    },
    {
      "cell_type": "code",
      "source": [
        "marks = [24,30,40]"
      ],
      "metadata": {
        "id": "FRjKNrGMPbn0"
      },
      "execution_count": null,
      "outputs": []
    },
    {
      "cell_type": "code",
      "source": [
        "class Students:\n",
        "  def __init__(self,name,marks):\n",
        "    self.name = name\n",
        "    self.marks = marks\n",
        "\n",
        "  def get_avg(self):\n",
        "    sum = 0\n",
        "    for i in self.marks:\n",
        "      sum+=i\n",
        "\n",
        "    print(\"Hello\",self.name,\"your average score is\",sum/3)\n",
        "\n",
        "s1 = Students('Sam',[24,30,40])\n",
        "s1.get_avg()\n",
        "\n",
        "\n"
      ],
      "metadata": {
        "colab": {
          "base_uri": "https://localhost:8080/"
        },
        "id": "_tMvL35iPJFc",
        "outputId": "a248100b-523a-418a-f390-7e7c0f3b9e89"
      },
      "execution_count": 7,
      "outputs": [
        {
          "output_type": "stream",
          "name": "stdout",
          "text": [
            "Hello Sam your average score is 31.333333333333332\n"
          ]
        }
      ]
    },
    {
      "cell_type": "markdown",
      "source": [
        "Create Account class with 2 attributes- balance & account no. Create methods for debit, credit & printing the balance"
      ],
      "metadata": {
        "id": "X8qd6Y-wSKNW"
      }
    },
    {
      "cell_type": "code",
      "source": [
        "class Account:\n",
        "  def __init__(self, bal, acc):\n",
        "    self.balance = bal\n",
        "    self.account_no = acc\n",
        "\n",
        "  def debit(self,amount):\n",
        "    self.balance -= amount\n",
        "    print(amount,\"was debited\")\n",
        "    print(\"Total balance\",self.get_balance())\n",
        "\n",
        "  def credit(self,amount):\n",
        "    self.balance += amount\n",
        "    print(amount,\"was credited\")\n",
        "    print(\"Total balance\",self.get_balance())\n",
        "\n",
        "  def get_balance(self):\n",
        "    return self.balance\n",
        "\n",
        "acc1 = Account(100000,1234)\n",
        "acc1.debit(1000)\n",
        "acc1.credit(20000)"
      ],
      "metadata": {
        "colab": {
          "base_uri": "https://localhost:8080/"
        },
        "id": "m0ucGAyaOD09",
        "outputId": "9059aaa6-35b1-42eb-c6da-9b386e5f2762"
      },
      "execution_count": 10,
      "outputs": [
        {
          "output_type": "stream",
          "name": "stdout",
          "text": [
            "1000 was debited\n",
            "Total balance 99000\n",
            "20000 was credited\n",
            "Total balance 119000\n"
          ]
        }
      ]
    },
    {
      "cell_type": "code",
      "source": [],
      "metadata": {
        "id": "7LKfb5t9OFTI"
      },
      "execution_count": null,
      "outputs": []
    }
  ]
}