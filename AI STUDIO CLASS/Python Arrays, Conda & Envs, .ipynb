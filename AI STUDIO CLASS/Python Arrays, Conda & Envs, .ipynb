{
 "cells": [
  {
   "cell_type": "markdown",
   "id": "024e9a64",
   "metadata": {},
   "source": [
    "<h3>Objectives:</h3>"
   ]
  },
  {
   "cell_type": "markdown",
   "id": "17700f59",
   "metadata": {},
   "source": [
    "<ul>Understand what arrays are and why they are useful.</ul>\n",
    "<ul>Learn how to create and manipulate arrays using Python lists.</ul>\n",
    "<ul>Explore NumPy for more efficient array operations.</ul>\n",
    "<ul>Implement small exercises for hands-on practice.</ul>"
   ]
  },
  {
   "cell_type": "markdown",
   "id": "89c403eb",
   "metadata": {},
   "source": [
    "<h3>1. What are Arrays?</h3>\n",
    "<p>An array is a collection of items stored at contiguous memory locations. In Python, arrays can be represented using lists or libraries like NumPy. Arrays are useful for:</p>\n",
    "\n",
    "<ul>Storing data of the same type.</ul>\n",
    "<ul>Performing mathematical operations efficiently.</ul>"
   ]
  },
  {
   "cell_type": "markdown",
   "id": "f10e1817",
   "metadata": {},
   "source": [
    "<h3>2. Arrays Using Python Lists</h3>\n",
    "<p>In Python, the closest native data type to an array is a list. While not as efficient as NumPy arrays for numerical operations, lists are dynamic, allowing mixed data types.</p>\n",
    "<h4>Creating a List (Array):</h4>"
   ]
  },
  {
   "cell_type": "code",
   "execution_count": 1,
   "id": "cff9d68e",
   "metadata": {},
   "outputs": [
    {
     "name": "stdout",
     "output_type": "stream",
     "text": [
      "Array: [10, 20, 30, 40, 50]\n",
      "Mixed Array: [1, 'apple', 3.14, True]\n"
     ]
    }
   ],
   "source": [
    "# A simple list (array) of integers\n",
    "numbers = [10, 20, 30, 40, 50]\n",
    "print(\"Array:\", numbers)\n",
    "\n",
    "# A list (array) with different data types\n",
    "mixed_array = [1, \"apple\", 3.14, True]\n",
    "print(\"Mixed Array:\", mixed_array)"
   ]
  },
  {
   "cell_type": "markdown",
   "id": "65193691",
   "metadata": {},
   "source": [
    "<h4>Accessing Array Elements:</h4>\n",
    "<p>You can access elements in a list using indices.</p>"
   ]
  },
  {
   "cell_type": "code",
   "execution_count": 3,
   "id": "cd52a12d",
   "metadata": {},
   "outputs": [
    {
     "name": "stdout",
     "output_type": "stream",
     "text": [
      "First Element: 10\n",
      "Last Element: 50\n"
     ]
    }
   ],
   "source": [
    "print(\"First Element:\", numbers[0])\n",
    "print(\"Last Element:\", numbers[-1])"
   ]
  },
  {
   "cell_type": "markdown",
   "id": "0930729f",
   "metadata": {},
   "source": [
    "<h4>Modifying Arrays:</h4>\n",
    "<p>Lists are mutable, meaning you can change their elements.</p>"
   ]
  },
  {
   "cell_type": "code",
   "execution_count": 5,
   "id": "e6949c02",
   "metadata": {},
   "outputs": [
    {
     "name": "stdout",
     "output_type": "stream",
     "text": [
      "Modified Array: [10, 25, 30, 40, 50]\n"
     ]
    }
   ],
   "source": [
    "numbers[1] = 25\n",
    "print(\"Modified Array:\", numbers)"
   ]
  },
  {
   "cell_type": "markdown",
   "id": "eab5b7f1",
   "metadata": {},
   "source": [
    "<h4>Array Operations:</h4>\n",
    "<p>You can perform basic operations on lists.</p>"
   ]
  },
  {
   "cell_type": "code",
   "execution_count": 7,
   "id": "937f32c9",
   "metadata": {},
   "outputs": [
    {
     "name": "stdout",
     "output_type": "stream",
     "text": [
      "After Append: [10, 25, 30, 40, 50, 60]\n",
      "After Remove: [10, 25, 40, 50, 60]\n"
     ]
    }
   ],
   "source": [
    "# Adding elements to a list\n",
    "numbers.append(60)\n",
    "print(\"After Append:\", numbers)\n",
    "\n",
    "# Removing an element\n",
    "numbers.remove(30)\n",
    "print(\"After Remove:\", numbers)"
   ]
  },
  {
   "cell_type": "markdown",
   "id": "94a23087",
   "metadata": {},
   "source": [
    "<h3>3. Arrays with NumPy</h3>\n",
    "<p>For numerical operations, Python's NumPy library provides more powerful and efficient arrays. NumPy arrays are faster and can handle larger datasets than lists.</p>\n",
    "\n",
    "<h4>Creating NumPy Arrays:</h4>"
   ]
  },
  {
   "cell_type": "code",
   "execution_count": 10,
   "id": "70e83311",
   "metadata": {},
   "outputs": [
    {
     "name": "stdout",
     "output_type": "stream",
     "text": [
      "NumPy Array: [10 20 30 40 50]\n"
     ]
    }
   ],
   "source": [
    "import numpy as np\n",
    "\n",
    "# Creating a NumPy array\n",
    "arr = np.array([10, 20, 30, 40, 50])\n",
    "print(\"NumPy Array:\", arr)"
   ]
  },
  {
   "cell_type": "markdown",
   "id": "877693fa",
   "metadata": {},
   "source": [
    "<h4>NumPy Array Characteristics:</h4>\n",
    "<ul><b>Homogeneous</b>: All elements in a NumPy array are of the same type. </ul>\n",
    "<ul><b>Efficient</b>: NumPy arrays are more memory-efficient than Python lists.</ul>\n",
    "\n",
    "<h4>Array Operations in NumPy:</h4>\n",
    "<p>NumPy allows you to perform element-wise operations.</p>\n",
    "    "
   ]
  },
  {
   "cell_type": "code",
   "execution_count": 11,
   "id": "a3d2eb58",
   "metadata": {},
   "outputs": [
    {
     "name": "stdout",
     "output_type": "stream",
     "text": [
      "After Addition: [15 25 35 45 55]\n",
      "After Multiplication: [ 20  40  60  80 100]\n"
     ]
    }
   ],
   "source": [
    "# Adding 5 to each element\n",
    "arr_add = arr + 5\n",
    "print(\"After Addition:\", arr_add)\n",
    "\n",
    "# Multiplying each element by 2\n",
    "arr_mul = arr * 2\n",
    "print(\"After Multiplication:\", arr_mul)"
   ]
  },
  {
   "cell_type": "markdown",
   "id": "f358f8c7",
   "metadata": {},
   "source": [
    "<h4>Multi-Dimensional Arrays:</h4>\n",
    "<p>NumPy also supports multi-dimensional arrays, which are essential for working with matrices and tensors.</p>"
   ]
  },
  {
   "cell_type": "code",
   "execution_count": 12,
   "id": "d61ea92f",
   "metadata": {},
   "outputs": [
    {
     "name": "stdout",
     "output_type": "stream",
     "text": [
      "2D Array (Matrix):\n",
      " [[1 2 3]\n",
      " [4 5 6]]\n"
     ]
    }
   ],
   "source": [
    "# Creating a 2D array (matrix)\n",
    "matrix = np.array([[1, 2, 3], [4, 5, 6]])\n",
    "print(\"2D Array (Matrix):\\n\", matrix)"
   ]
  },
  {
   "cell_type": "markdown",
   "id": "de35017f",
   "metadata": {},
   "source": [
    "<b>Reshaping arrays</b> is a fundamental concept in NumPy that allows you to change the shape of an array without changing its data. This can be particularly useful when you need to prepare data for machine learning, image processing, or any other application where data needs to be in a specific format."
   ]
  },
  {
   "cell_type": "code",
   "execution_count": 19,
   "id": "66c41815",
   "metadata": {},
   "outputs": [
    {
     "name": "stdout",
     "output_type": "stream",
     "text": [
      "Original 1D Array: [ 0  1  2  3  4  5  6  7  8  9 10 11 12 13 14 15 16 17]\n",
      "\n",
      "Reshaped 2D Array (3x6):\n",
      " [[ 0  1  2  3  4  5]\n",
      " [ 6  7  8  9 10 11]\n",
      " [12 13 14 15 16 17]]\n",
      "\n",
      "Reshaped 3D Array (2x2x3):\n",
      " [[[ 0  1  2]\n",
      "  [ 3  4  5]\n",
      "  [ 6  7  8]]\n",
      "\n",
      " [[ 9 10 11]\n",
      "  [12 13 14]\n",
      "  [15 16 17]]]\n"
     ]
    }
   ],
   "source": [
    "# 1. Introduction to Reshaping\n",
    "# Reshaping an array means changing its dimensions. This can be done using the reshape() method.\n",
    "\n",
    "import numpy as np\n",
    "\n",
    "# Create a 1D array\n",
    "array_1d = np.arange(18)  # Creates an array with values from 0 to 11\n",
    "print(\"Original 1D Array:\", array_1d)\n",
    "\n",
    "# Reshape to a 2D array (3 rows, 4 columns)\n",
    "array_2d = array_1d.reshape(3, 6)\n",
    "print(\"\\nReshaped 2D Array (3x6):\\n\", array_2d)\n",
    "\n",
    "# Reshape to a 3D array (2 layers, 2 rows, 3 columns)\n",
    "array_3d = array_1d.reshape(2, 3, 3)\n",
    "print(\"\\nReshaped 3D Array (2x2x3):\\n\", array_3d)\n"
   ]
  },
  {
   "cell_type": "code",
   "execution_count": 20,
   "id": "0dd9495f",
   "metadata": {},
   "outputs": [
    {
     "name": "stdout",
     "output_type": "stream",
     "text": [
      "Shape of Original Array: (18,)\n",
      "Shape of 2D Array: (3, 6)\n",
      "Shape of 3D Array: (2, 3, 3)\n"
     ]
    }
   ],
   "source": [
    "# 2. Understanding Dimensions\n",
    "# Let's discuss the concept of dimensions (also known as axes) and how reshaping works with them.\n",
    "\n",
    "# Check the shape of the original array\n",
    "print(\"Shape of Original Array:\", array_1d.shape)\n",
    "\n",
    "# Check the shape of the 2D array\n",
    "print(\"Shape of 2D Array:\", array_2d.shape)\n",
    "\n",
    "# Check the shape of the 3D array\n",
    "print(\"Shape of 3D Array:\", array_3d.shape)\n"
   ]
  },
  {
   "cell_type": "code",
   "execution_count": 21,
   "id": "1868ead6",
   "metadata": {},
   "outputs": [
    {
     "name": "stdout",
     "output_type": "stream",
     "text": [
      "\n",
      "Reshaped Array with -1:\n",
      " [[ 0  1  2  3  4  5]\n",
      " [ 6  7  8  9 10 11]\n",
      " [12 13 14 15 16 17]]\n",
      "\n",
      "Flattened Array (1D) from 2D Array:\n",
      " [ 0  1  2  3  4  5  6  7  8  9 10 11 12 13 14 15 16 17]\n"
     ]
    }
   ],
   "source": [
    "# 3. Using -1 in Reshape\n",
    "# You can use -1 in the reshape method to automatically calculate the size of that dimension.\n",
    "\n",
    "# Reshape using -1\n",
    "reshaped_array = array_1d.reshape(3, -1)  # Automatically determines the second dimension\n",
    "print(\"\\nReshaped Array with -1:\\n\", reshaped_array)\n",
    "\n",
    "# You can also reshape to a 1D array\n",
    "reshaped_array_1d = array_2d.reshape(-1)\n",
    "print(\"\\nFlattened Array (1D) from 2D Array:\\n\", reshaped_array_1d)\n"
   ]
  },
  {
   "cell_type": "code",
   "execution_count": 26,
   "id": "1d23a7fa",
   "metadata": {},
   "outputs": [
    {
     "name": "stdout",
     "output_type": "stream",
     "text": [
      "Valid Reshape (4x3):\n",
      " [[ 0  1  2]\n",
      " [ 3  4  5]\n",
      " [ 6  7  8]\n",
      " [ 9 10 11]\n",
      " [12 13 14]\n",
      " [15 16 17]]\n"
     ]
    }
   ],
   "source": [
    "# 4. Reshaping with Compatibility\n",
    "# It’s important that the total number of elements remains the same after reshaping.\n",
    "\n",
    "# Trying to reshape to incompatible dimensions\n",
    "try:\n",
    "    array_incompatible = array_1d.reshape(3, 6)  # This will raise an error\n",
    "except ValueError as e:\n",
    "    print(\"\\nError:\", e)\n",
    "\n",
    "# Valid reshape\n",
    "array_valid = array_1d.reshape(6, 3)\n",
    "print(\"Valid Reshape (4x3):\\n\", array_valid)"
   ]
  },
  {
   "cell_type": "code",
   "execution_count": 29,
   "id": "8c88487d",
   "metadata": {},
   "outputs": [
    {
     "name": "stdout",
     "output_type": "stream",
     "text": [
      "Original Data Shape: (4, 2)\n",
      "[[1 2]\n",
      " [3 4]\n",
      " [5 6]\n",
      " [7 8]]\n",
      "\n",
      "Reshaped Data Shape (4 samples, 2 features): (4, 2)\n",
      "[[1]\n",
      " [2]\n",
      " [3]\n",
      " [4]\n",
      " [5]\n",
      " [6]\n",
      " [7]\n",
      " [8]]\n",
      "Reshaped Data Shape (8 samples, 1 feature): (8, 1)\n"
     ]
    }
   ],
   "source": [
    "# 5. Example: Reshaping for Machine Learning\n",
    "# Reshaping is often used to prepare data for machine learning models.\n",
    "\n",
    "# Simulate a dataset with 2 features\n",
    "data = np.array([[1, 2],\n",
    "                 [3, 4],\n",
    "                 [5, 6],\n",
    "                 [7, 8]])\n",
    "\n",
    "# Original shape\n",
    "print(\"Original Data Shape:\", data.shape)\n",
    "\n",
    "# Reshape to a single feature (4 samples, 2 features)\n",
    "reshaped_data = data.reshape(-1, 2)\n",
    "print(reshaped_data)\n",
    "print(\"\\nReshaped Data Shape (4 samples, 2 features):\", reshaped_data.shape)\n",
    "\n",
    "# Reshape to have only one feature (8 samples, 1 feature)\n",
    "reshaped_single_feature = data.reshape(-1, 1)\n",
    "print(reshaped_single_feature)\n",
    "print(\"Reshaped Data Shape (8 samples, 1 feature):\", reshaped_single_feature.shape)"
   ]
  },
  {
   "cell_type": "markdown",
   "id": "1eb5a559",
   "metadata": {},
   "source": [
    "<h3>4. Practical Examples</h3>\n",
    "<p>Here are some real-world examples where arrays are useful:</p>\n",
    "    \n",
    "<h4>Example 1: Temperature Data</h4>\n",
    "<p>You can store daily temperatures for a week in an array:</p>"
   ]
  },
  {
   "cell_type": "code",
   "execution_count": null,
   "id": "76463d62",
   "metadata": {},
   "outputs": [],
   "source": [
    "temperatures = np.array([21.5, 22.3, 19.8, 23.1, 24.5, 20.2, 18.6])\n",
    "print(\"Weekly Temperatures:\", temperatures)\n",
    "\n",
    "# Calculate the average temperature\n",
    "avg_temp = np.mean(temperatures)\n",
    "print(\"Average Temperature:\", avg_temp)"
   ]
  },
  {
   "cell_type": "markdown",
   "id": "1c8862ee",
   "metadata": {},
   "source": [
    "<h4>Example 2: Image Representation</h4>\n",
    "<p>Images can be represented as multi-dimensional arrays (matrices), where each element is a pixel value.</p>"
   ]
  },
  {
   "cell_type": "code",
   "execution_count": null,
   "id": "7a1f6b50",
   "metadata": {},
   "outputs": [],
   "source": [
    "# Example 3x3 grayscale image\n",
    "image = np.array([[255, 128, 0],\n",
    "                  [128, 64, 32],\n",
    "                  [0, 32, 64]])\n",
    "print(\"Image as an Array:\\n\", image)"
   ]
  },
  {
   "cell_type": "markdown",
   "id": "056db356",
   "metadata": {},
   "source": [
    "<h3>5. Exercises </h3>\n",
    "<h4>Exercise 1: Create and Manipulate Lists</h4>\n",
    "\n",
    "<p><ul>Create a list of 5 favorite fruits.</ul>\n",
    "<ul>Add two more fruits to the list.</ul>\n",
    "<ul>Replace the second fruit with \"Strawberry\".</ul>\n",
    "<ul>Remove the last fruit from the list.</ul></p>\n",
    "\n",
    "<h4>Exercise 2: Basic NumPy Array Operations</h4>\n",
    "<p><ul>Create a NumPy array with 6 numbers.</ul>\n",
    "<ul>Multiply each element by 3.</ul>\n",
    "<ul>Find the sum of all elements.</ul>\n",
    "<ul>Reshape the array into a 2x3 matrix.</ul></p>\n",
    "\n",
    "<h4>Exercise 3: Advanced NumPy Practice</h4>\n",
    "<p><ul>Create a 3x3 identity matrix using NumPy.</ul>\n",
    "<ul>Generate an array of 10 random numbers between 1 and 100.</ul>\n",
    "<ul>Sort the array in descending order.</ul></p>"
   ]
  },
  {
   "cell_type": "markdown",
   "id": "c4c1f955",
   "metadata": {},
   "source": [
    "<h3>3. Virtual Environments in Python</h3>\n",
    "\n",
    "<p>A virtual environment is a self-contained directory where you can install packages and manage dependencies for each project. It ensures each project remains isolated.</p>\n",
    "\n",
    "<h4>Creating a Virtual Environment:</h4>\n",
    "<p>To create a virtual environment, use the following command:</p>"
   ]
  },
  {
   "cell_type": "code",
   "execution_count": null,
   "id": "a3d585a2",
   "metadata": {},
   "outputs": [],
   "source": [
    "# Python 3\n",
    "python -m venv my_env"
   ]
  },
  {
   "cell_type": "markdown",
   "id": "1301540f",
   "metadata": {},
   "source": [
    "<h4>Activating the Virtual Environment:</h4>\n",
    "<ul>On Windows</ul>"
   ]
  },
  {
   "cell_type": "code",
   "execution_count": null,
   "id": "7f268679",
   "metadata": {},
   "outputs": [],
   "source": [
    "my_env\\Scripts\\activate"
   ]
  },
  {
   "cell_type": "markdown",
   "id": "0c1bab50",
   "metadata": {},
   "source": [
    "<ul>On macOS/Linux:</ul>"
   ]
  },
  {
   "cell_type": "code",
   "execution_count": null,
   "id": "61c238ab",
   "metadata": {},
   "outputs": [],
   "source": [
    "source my_env/bin/activate"
   ]
  },
  {
   "cell_type": "markdown",
   "id": "4d914b97",
   "metadata": {},
   "source": [
    "<p>Once activated, any package you install will be specific to that environment.</p>"
   ]
  },
  {
   "cell_type": "code",
   "execution_count": null,
   "id": "4db3451d",
   "metadata": {},
   "outputs": [],
   "source": [
    "pip install numpy pandas"
   ]
  },
  {
   "cell_type": "markdown",
   "id": "07777875",
   "metadata": {},
   "source": [
    "<h4>Deactivating the Virtual Environment:</h4>\n",
    "<p>To leave the environment, simply type:</p>\n",
    "\n",
    "<b>deactivate</b>"
   ]
  },
  {
   "cell_type": "markdown",
   "id": "be30405f",
   "metadata": {},
   "source": [
    "<h3>4. Introduction to Conda</h3>\n",
    "<p>Conda is a package management and environment management system that comes with Anaconda and Miniconda. It allows you to create isolated environments and manage packages easily, even across multiple versions of Python.</p>\n",
    "\n",
    "<h4>Installing Conda:</h4>\n",
    "<ul>Anaconda: A full data science package that includes Conda and many pre-installed packages. Download from Anaconda.</ul>\n",
    "<ul>Miniconda: A lightweight alternative to Anaconda, which only installs Conda and no additional packages. Download from Miniconda.</ul>\n",
    "<h4>Why Use Conda?</h4>\n",
    "<ul>Manage both Python and non-Python packages.</ul>\n",
    "<ul>Isolate environments easily, avoiding conflicts.</ul>\n",
    "<ul>Useful for data science and machine learning projects.</ul>"
   ]
  },
  {
   "cell_type": "markdown",
   "id": "2bf152ea",
   "metadata": {},
   "source": [
    "<h3>5. Managing Environments with Conda</h3>\n",
    "\n",
    "<h4>Creating a Conda Environment:</h4>"
   ]
  },
  {
   "cell_type": "code",
   "execution_count": null,
   "id": "683629d9",
   "metadata": {},
   "outputs": [],
   "source": [
    "conda create --name my_env"
   ]
  },
  {
   "cell_type": "markdown",
   "id": "3331ff6d",
   "metadata": {},
   "source": [
    "You can specify the Python version as well:"
   ]
  },
  {
   "cell_type": "code",
   "execution_count": null,
   "id": "7557e278",
   "metadata": {},
   "outputs": [],
   "source": [
    "conda create --name my_env python=3.8"
   ]
  },
  {
   "cell_type": "markdown",
   "id": "3237a2ee",
   "metadata": {},
   "source": [
    "<h4>Activating a Conda Environment:</h4>"
   ]
  },
  {
   "cell_type": "code",
   "execution_count": null,
   "id": "f519b523",
   "metadata": {},
   "outputs": [],
   "source": [
    "conda activate my_env"
   ]
  },
  {
   "cell_type": "markdown",
   "id": "cbcfde49",
   "metadata": {},
   "source": [
    "<h4>Installing Packages:</h4>\n",
    "\n",
    "Once the environment is activated, you can install packages using Conda:"
   ]
  },
  {
   "cell_type": "code",
   "execution_count": null,
   "id": "77497cfb",
   "metadata": {},
   "outputs": [],
   "source": [
    "conda install numpy pandas"
   ]
  },
  {
   "cell_type": "markdown",
   "id": "27b7b190",
   "metadata": {},
   "source": [
    "Conda also supports installing packages from pip:"
   ]
  },
  {
   "cell_type": "code",
   "execution_count": null,
   "id": "211197e4",
   "metadata": {},
   "outputs": [],
   "source": [
    "conda install pip\n",
    "pip install seaborn"
   ]
  },
  {
   "cell_type": "markdown",
   "id": "3acb975c",
   "metadata": {},
   "source": [
    "<h4>Deactivating a Conda Environment:</h4>\n",
    "\n",
    "To deactivate the current environment, use:"
   ]
  },
  {
   "cell_type": "code",
   "execution_count": null,
   "id": "a663f01f",
   "metadata": {},
   "outputs": [],
   "source": [
    "conda deactivate"
   ]
  },
  {
   "cell_type": "markdown",
   "id": "f1ae4ef5",
   "metadata": {},
   "source": [
    "<h4>Listing Conda Environments:</h4>\n",
    "<p>To list all your environments:</p>"
   ]
  },
  {
   "cell_type": "code",
   "execution_count": null,
   "id": "19c09196",
   "metadata": {},
   "outputs": [],
   "source": [
    "conda env list"
   ]
  },
  {
   "cell_type": "code",
   "execution_count": null,
   "id": "6c242513",
   "metadata": {},
   "outputs": [],
   "source": [
    "<h4>Removing a Conda Environment:</h4>\n",
    "<p>To delete an environment:</p>"
   ]
  },
  {
   "cell_type": "code",
   "execution_count": null,
   "id": "f3fa6a7c",
   "metadata": {},
   "outputs": [],
   "source": [
    "conda remove --name my_env --all"
   ]
  },
  {
   "cell_type": "markdown",
   "id": "438904f3",
   "metadata": {},
   "source": [
    "<h3>6. Comparing Virtual Environments and Conda Environments</h3>"
   ]
  },
  {
   "cell_type": "markdown",
   "id": "f619733b",
   "metadata": {},
   "source": [
    "<table>\n",
    "  <thead>\n",
    "    <tr>\n",
    "      <th>Feature</th>\n",
    "      <th>Python Virtual Environments</th>\n",
    "      <th>Conda Environments</th>\n",
    "    </tr>\n",
    "  </thead>\n",
    "  <tbody>\n",
    "    <tr>\n",
    "      <td>Package Manager</td>\n",
    "      <td>pip</td>\n",
    "      <td>conda + pip</td>\n",
    "    </tr>\n",
    "    <tr>\n",
    "      <td>Python Version Management</td>\n",
    "      <td>No</td>\n",
    "      <td>Yes</td>\n",
    "    </tr>\n",
    "    <tr>\n",
    "      <td>Supports Non-Python Packages</td>\n",
    "      <td>No</td>\n",
    "      <td>Yes</td>\n",
    "    </tr>\n",
    "    <tr>\n",
    "      <td>Speed</td>\n",
    "      <td>Faster</td>\n",
    "      <td>Slightly slower</td>\n",
    "    </tr>\n",
    "    <tr>\n",
    "      <td>Built-in Package Management</td>\n",
    "      <td>No</td>\n",
    "      <td>Yes</td>\n",
    "    </tr>\n",
    "  </tbody>\n",
    "</table>\n",
    "\n",
    "\n",
    "\n",
    "<h4>When to Use Virtualenv:</h4>\n",
    "<ul>If you prefer managing environments with pip and don’t need non-Python dependencies.</ul>\n",
    "\n",
    "<h4>When to Use Conda:</h4>\n",
    "<ul>If you are working on data science projects and need non-Python libraries or managing multiple versions of Python.</ul>"
   ]
  },
  {
   "cell_type": "code",
   "execution_count": null,
   "id": "b2b4f9fb",
   "metadata": {},
   "outputs": [],
   "source": []
  }
 ],
 "metadata": {
  "kernelspec": {
   "display_name": "gpu",
   "language": "python",
   "name": "gpu"
  },
  "language_info": {
   "codemirror_mode": {
    "name": "ipython",
    "version": 3
   },
   "file_extension": ".py",
   "mimetype": "text/x-python",
   "name": "python",
   "nbconvert_exporter": "python",
   "pygments_lexer": "ipython3",
   "version": "3.9.18"
  }
 },
 "nbformat": 4,
 "nbformat_minor": 5
}
