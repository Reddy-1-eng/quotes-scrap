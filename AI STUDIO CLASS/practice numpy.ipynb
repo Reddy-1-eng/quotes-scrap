{
 "cells": [
  {
   "cell_type": "code",
   "execution_count": 2,
   "id": "960fb263-77eb-438e-ab79-0109beb905b8",
   "metadata": {},
   "outputs": [],
   "source": [
    "import numpy as np"
   ]
  },
  {
   "cell_type": "code",
   "execution_count": 3,
   "id": "1c74a0e2-2d49-4c17-9d29-d1b95305da9d",
   "metadata": {},
   "outputs": [
    {
     "name": "stdout",
     "output_type": "stream",
     "text": [
      "[1 2 3]\n"
     ]
    }
   ],
   "source": [
    "a = np.array([1,2,3],dtype = 'int8')\n",
    "print(a)"
   ]
  },
  {
   "cell_type": "code",
   "execution_count": 4,
   "id": "9db0d584-33fb-47d5-bf67-e55e2fdff0b8",
   "metadata": {},
   "outputs": [
    {
     "name": "stdout",
     "output_type": "stream",
     "text": [
      "[[1.  2.  9. ]\n",
      " [2.3 4.5 6. ]]\n"
     ]
    }
   ],
   "source": [
    "b = np.array([[1.0,2.0,9],[2.3,4.5,6]])\n",
    "print(b)"
   ]
  },
  {
   "cell_type": "code",
   "execution_count": 5,
   "id": "50bb28ad-25c5-445b-80f6-902a1e5f4353",
   "metadata": {},
   "outputs": [
    {
     "data": {
      "text/plain": [
       "8"
      ]
     },
     "execution_count": 5,
     "metadata": {},
     "output_type": "execute_result"
    }
   ],
   "source": [
    "b.itemsize"
   ]
  },
  {
   "cell_type": "code",
   "execution_count": 6,
   "id": "f40ed568-1a03-4ad9-bc5f-4079bfcbd6d5",
   "metadata": {},
   "outputs": [
    {
     "data": {
      "text/plain": [
       "1"
      ]
     },
     "execution_count": 6,
     "metadata": {},
     "output_type": "execute_result"
    }
   ],
   "source": [
    "a.ndim"
   ]
  },
  {
   "cell_type": "code",
   "execution_count": 7,
   "id": "eb3a60f8-fe41-42b3-812f-f642900734bb",
   "metadata": {},
   "outputs": [
    {
     "data": {
      "text/plain": [
       "2"
      ]
     },
     "execution_count": 7,
     "metadata": {},
     "output_type": "execute_result"
    }
   ],
   "source": [
    "b.ndim"
   ]
  },
  {
   "cell_type": "code",
   "execution_count": 8,
   "id": "e89924b8-1a1c-4022-b96f-548bab111f27",
   "metadata": {},
   "outputs": [
    {
     "data": {
      "text/plain": [
       "dtype('int8')"
      ]
     },
     "execution_count": 8,
     "metadata": {},
     "output_type": "execute_result"
    }
   ],
   "source": [
    "a.dtype"
   ]
  },
  {
   "cell_type": "code",
   "execution_count": 9,
   "id": "4ea91b51-2cbf-4a27-8923-030df8896c1d",
   "metadata": {},
   "outputs": [
    {
     "data": {
      "text/plain": [
       "array([[ 1,  2,  3,  3,  5,  6,  7,  8],\n",
       "       [32,  5,  6, 75, 83,  9,  2,  5]])"
      ]
     },
     "execution_count": 9,
     "metadata": {},
     "output_type": "execute_result"
    }
   ],
   "source": [
    "a = np.array([[1,2,3,3,5,6,7,8],[32,5,6,75,83,9,2,5,]])\n",
    "a"
   ]
  },
  {
   "cell_type": "code",
   "execution_count": 10,
   "id": "0c25c940-e88d-4a33-9529-4e5c2f10f5b2",
   "metadata": {},
   "outputs": [
    {
     "data": {
      "text/plain": [
       "np.int64(5)"
      ]
     },
     "execution_count": 10,
     "metadata": {},
     "output_type": "execute_result"
    }
   ],
   "source": [
    "a[0,4]"
   ]
  },
  {
   "cell_type": "code",
   "execution_count": 11,
   "id": "adc9b7cf-e27b-40e7-88fa-2e89ebfac1e7",
   "metadata": {},
   "outputs": [
    {
     "data": {
      "text/plain": [
       "array([1, 2, 3, 3, 5])"
      ]
     },
     "execution_count": 11,
     "metadata": {},
     "output_type": "execute_result"
    }
   ],
   "source": [
    "\n",
    "a[0,:5]"
   ]
  },
  {
   "cell_type": "code",
   "execution_count": 12,
   "id": "88b4dae1-4eed-4413-8017-193ef8226802",
   "metadata": {},
   "outputs": [
    {
     "data": {
      "text/plain": [
       "array([3, 6])"
      ]
     },
     "execution_count": 12,
     "metadata": {},
     "output_type": "execute_result"
    }
   ],
   "source": [
    "a[:,2]"
   ]
  },
  {
   "cell_type": "code",
   "execution_count": 13,
   "id": "caec3d3f-a6ec-4580-92a7-d370c0080842",
   "metadata": {},
   "outputs": [
    {
     "data": {
      "text/plain": [
       "array([1, 3, 5, 7])"
      ]
     },
     "execution_count": 13,
     "metadata": {},
     "output_type": "execute_result"
    }
   ],
   "source": [
    "a[0, 0:7:2]"
   ]
  },
  {
   "cell_type": "code",
   "execution_count": 14,
   "id": "dc1ffdfe-7379-409c-b0ba-e3ddfbc0f731",
   "metadata": {},
   "outputs": [
    {
     "name": "stdout",
     "output_type": "stream",
     "text": [
      "[[ 1  2  5  3  5  6  7  8]\n",
      " [32  5  5 75 83  9  2  5]]\n"
     ]
    }
   ],
   "source": [
    "a[:,2] = 5\n",
    "print(a)"
   ]
  },
  {
   "cell_type": "code",
   "execution_count": 15,
   "id": "750691f7-65da-47ca-9b7e-d1edad77751d",
   "metadata": {},
   "outputs": [
    {
     "name": "stdout",
     "output_type": "stream",
     "text": [
      "[[ 1  2  5  3  5  6  7  8]\n",
      " [32  5  5 75 83  9  9  5]]\n"
     ]
    }
   ],
   "source": [
    "a[1,6] = 9\n",
    "print(a)"
   ]
  },
  {
   "cell_type": "code",
   "execution_count": 16,
   "id": "157eea74-7f58-4b6f-9931-4826b65d73aa",
   "metadata": {},
   "outputs": [
    {
     "data": {
      "text/plain": [
       "array([[[1, 2],\n",
       "        [2, 4]],\n",
       "\n",
       "       [[1, 3],\n",
       "        [4, 6]]])"
      ]
     },
     "execution_count": 16,
     "metadata": {},
     "output_type": "execute_result"
    }
   ],
   "source": [
    "a = np.array([[[1,2],[2,4]],[[1,3],[4,6]]])\n",
    "a"
   ]
  },
  {
   "cell_type": "code",
   "execution_count": 17,
   "id": "d2ffc501-e786-407d-b838-7aa26bbef3d5",
   "metadata": {},
   "outputs": [
    {
     "data": {
      "text/plain": [
       "array([[1, 2],\n",
       "       [1, 3]])"
      ]
     },
     "execution_count": 17,
     "metadata": {},
     "output_type": "execute_result"
    }
   ],
   "source": [
    "a[:,0,:]\n"
   ]
  },
  {
   "cell_type": "code",
   "execution_count": 18,
   "id": "3b61e053-1166-468d-ba4f-75afb8d1a12e",
   "metadata": {},
   "outputs": [
    {
     "data": {
      "text/plain": [
       "array([[[1, 2],\n",
       "        [1, 2]],\n",
       "\n",
       "       [[1, 3],\n",
       "        [1, 4]]])"
      ]
     },
     "execution_count": 18,
     "metadata": {},
     "output_type": "execute_result"
    }
   ],
   "source": [
    "a[:,1,:] = [[1,2],[1,4]]\n",
    "a"
   ]
  },
  {
   "cell_type": "code",
   "execution_count": 19,
   "id": "42685dc5-1fa3-4688-b513-234c1d797846",
   "metadata": {},
   "outputs": [
    {
     "data": {
      "text/plain": [
       "array([[[0., 0., 0.],\n",
       "        [0., 0., 0.],\n",
       "        [0., 0., 0.]],\n",
       "\n",
       "       [[0., 0., 0.],\n",
       "        [0., 0., 0.],\n",
       "        [0., 0., 0.]],\n",
       "\n",
       "       [[0., 0., 0.],\n",
       "        [0., 0., 0.],\n",
       "        [0., 0., 0.]],\n",
       "\n",
       "       [[0., 0., 0.],\n",
       "        [0., 0., 0.],\n",
       "        [0., 0., 0.]],\n",
       "\n",
       "       [[0., 0., 0.],\n",
       "        [0., 0., 0.],\n",
       "        [0., 0., 0.]]])"
      ]
     },
     "execution_count": 19,
     "metadata": {},
     "output_type": "execute_result"
    }
   ],
   "source": [
    "np.zeros((5,3,3))"
   ]
  },
  {
   "cell_type": "code",
   "execution_count": 20,
   "id": "aaf2ddbf-7065-4487-91de-c175675a4be1",
   "metadata": {},
   "outputs": [
    {
     "data": {
      "text/plain": [
       "array([[[1., 1., 1., 1., 1.],\n",
       "        [1., 1., 1., 1., 1.],\n",
       "        [1., 1., 1., 1., 1.],\n",
       "        [1., 1., 1., 1., 1.],\n",
       "        [1., 1., 1., 1., 1.]],\n",
       "\n",
       "       [[1., 1., 1., 1., 1.],\n",
       "        [1., 1., 1., 1., 1.],\n",
       "        [1., 1., 1., 1., 1.],\n",
       "        [1., 1., 1., 1., 1.],\n",
       "        [1., 1., 1., 1., 1.]],\n",
       "\n",
       "       [[1., 1., 1., 1., 1.],\n",
       "        [1., 1., 1., 1., 1.],\n",
       "        [1., 1., 1., 1., 1.],\n",
       "        [1., 1., 1., 1., 1.],\n",
       "        [1., 1., 1., 1., 1.]],\n",
       "\n",
       "       [[1., 1., 1., 1., 1.],\n",
       "        [1., 1., 1., 1., 1.],\n",
       "        [1., 1., 1., 1., 1.],\n",
       "        [1., 1., 1., 1., 1.],\n",
       "        [1., 1., 1., 1., 1.]],\n",
       "\n",
       "       [[1., 1., 1., 1., 1.],\n",
       "        [1., 1., 1., 1., 1.],\n",
       "        [1., 1., 1., 1., 1.],\n",
       "        [1., 1., 1., 1., 1.],\n",
       "        [1., 1., 1., 1., 1.]]])"
      ]
     },
     "execution_count": 20,
     "metadata": {},
     "output_type": "execute_result"
    }
   ],
   "source": [
    "np.ones((5,5,5))"
   ]
  },
  {
   "cell_type": "code",
   "execution_count": 21,
   "id": "70a7366e-6780-4f9a-8b8b-b948322d014d",
   "metadata": {},
   "outputs": [
    {
     "data": {
      "text/plain": [
       "array([[100, 100, 100],\n",
       "       [100, 100, 100]])"
      ]
     },
     "execution_count": 21,
     "metadata": {},
     "output_type": "execute_result"
    }
   ],
   "source": [
    "np.full((2,3),100)"
   ]
  },
  {
   "cell_type": "code",
   "execution_count": 22,
   "id": "556057a0-a2b8-4e25-a4d3-405ba8f7005d",
   "metadata": {},
   "outputs": [
    {
     "data": {
      "text/plain": [
       "array([[[69, 69],\n",
       "        [69, 69]],\n",
       "\n",
       "       [[69, 69],\n",
       "        [69, 69]]])"
      ]
     },
     "execution_count": 22,
     "metadata": {},
     "output_type": "execute_result"
    }
   ],
   "source": [
    "np.full_like(a,69)"
   ]
  },
  {
   "cell_type": "code",
   "execution_count": 23,
   "id": "661ea56e-aa82-4f87-971c-4b51af324b71",
   "metadata": {},
   "outputs": [
    {
     "data": {
      "text/plain": [
       "array([[1., 0., 0., 0., 0.],\n",
       "       [0., 1., 0., 0., 0.],\n",
       "       [0., 0., 1., 0., 0.],\n",
       "       [0., 0., 0., 1., 0.],\n",
       "       [0., 0., 0., 0., 1.]])"
      ]
     },
     "execution_count": 23,
     "metadata": {},
     "output_type": "execute_result"
    }
   ],
   "source": [
    "np.identity(5) # identify matrix"
   ]
  },
  {
   "cell_type": "code",
   "execution_count": 24,
   "id": "059c8847-ddbe-430e-a395-8770c02c065c",
   "metadata": {},
   "outputs": [
    {
     "name": "stdout",
     "output_type": "stream",
     "text": [
      "[[[1 1 1 1 1 1 1 1 1 1 2 2 2 2 2 2 2 2 2 2 3 3 3 3 3 3 3 3 3 3]\n",
      "  [2 2 2 2 2 2 2 2 2 2 3 3 3 3 3 3 3 3 3 3 3 3 3 3 3 3 3 3 3 3]]]\n"
     ]
    }
   ],
   "source": [
    "arr = np.array([[[1,2,3], [2,3,3]]])\n",
    "rep = np.repeat(arr,10,axis = -1)\n",
    "print(rep)"
   ]
  },
  {
   "cell_type": "code",
   "execution_count": 25,
   "id": "77e6e86a-6f97-4889-9a76-325a1c3aed83",
   "metadata": {},
   "outputs": [
    {
     "name": "stdout",
     "output_type": "stream",
     "text": [
      "[[1. 1. 1. 1. 1.]\n",
      " [1. 1. 1. 1. 1.]\n",
      " [1. 1. 1. 1. 1.]\n",
      " [1. 1. 1. 1. 1.]\n",
      " [1. 1. 1. 1. 1.]]\n",
      "[[0. 0. 0.]\n",
      " [0. 0. 0.]\n",
      " [0. 0. 0.]]\n",
      "[[0. 0. 0.]\n",
      " [0. 9. 0.]\n",
      " [0. 0. 0.]]\n",
      "[[1. 1. 1. 1. 1.]\n",
      " [1. 0. 0. 0. 1.]\n",
      " [1. 0. 9. 0. 1.]\n",
      " [1. 0. 0. 0. 1.]\n",
      " [1. 1. 1. 1. 1.]]\n"
     ]
    }
   ],
   "source": [
    "c = np.ones((5,5))\n",
    "print(c)\n",
    "b = np.zeros((3,3))\n",
    "print(b)\n",
    "b[1,1] = 9\n",
    "print(b)\n",
    "c[1:4,1:4] = b\n",
    "print(c)"
   ]
  },
  {
   "cell_type": "code",
   "execution_count": 26,
   "id": "51fe6aa4-c53a-4965-8eb4-c57ece530e84",
   "metadata": {},
   "outputs": [
    {
     "name": "stdout",
     "output_type": "stream",
     "text": [
      "[1 3 4]\n",
      "[2 3 4]\n"
     ]
    }
   ],
   "source": [
    "a = np.array([1,3,4])\n",
    "print(a)\n",
    "b = a\n",
    "b[0] = 2\n",
    "print(b)"
   ]
  },
  {
   "cell_type": "code",
   "execution_count": 27,
   "id": "a2b3bbc0-d50c-4b35-b978-14d62e39f2f9",
   "metadata": {},
   "outputs": [
    {
     "name": "stdout",
     "output_type": "stream",
     "text": [
      "[1 2 4 5 6 7]\n"
     ]
    }
   ],
   "source": [
    "a = np.array([1,2,4,5,6,7])\n",
    "print(a)"
   ]
  },
  {
   "cell_type": "code",
   "execution_count": 28,
   "id": "0cb6a612-f677-4739-87d4-21088014d773",
   "metadata": {},
   "outputs": [
    {
     "data": {
      "text/plain": [
       "array([3, 4, 6, 7, 8, 9])"
      ]
     },
     "execution_count": 28,
     "metadata": {},
     "output_type": "execute_result"
    }
   ],
   "source": [
    "a+2"
   ]
  },
  {
   "cell_type": "markdown",
   "id": "4033caea-0c90-46a2-9ede-9cccb1a25f56",
   "metadata": {
    "jp-MarkdownHeadingCollapsed": true
   },
   "source": [
    "dc"
   ]
  },
  {
   "cell_type": "code",
   "execution_count": 29,
   "id": "a04fb37a-459c-4167-97b6-c623d30acf9c",
   "metadata": {},
   "outputs": [
    {
     "data": {
      "text/plain": [
       "array([3, 4, 6, 7, 8, 9])"
      ]
     },
     "execution_count": 29,
     "metadata": {},
     "output_type": "execute_result"
    }
   ],
   "source": [
    "a+2"
   ]
  },
  {
   "cell_type": "code",
   "execution_count": 30,
   "id": "4da6e539-9ef7-40f1-bbee-e858b5402082",
   "metadata": {},
   "outputs": [
    {
     "data": {
      "text/plain": [
       "array([0.5, 1. , 2. , 2.5, 3. , 3.5])"
      ]
     },
     "execution_count": 30,
     "metadata": {},
     "output_type": "execute_result"
    }
   ],
   "source": [
    "a/2"
   ]
  },
  {
   "cell_type": "code",
   "execution_count": 31,
   "id": "7f0a976c-b4b8-497a-a050-848380d4ad20",
   "metadata": {},
   "outputs": [
    {
     "data": {
      "text/plain": [
       "array([-1,  0,  2,  3,  4,  5])"
      ]
     },
     "execution_count": 31,
     "metadata": {},
     "output_type": "execute_result"
    }
   ],
   "source": [
    "a-2"
   ]
  },
  {
   "cell_type": "code",
   "execution_count": 32,
   "id": "12292c33-5fb3-4940-9b32-4671be080148",
   "metadata": {},
   "outputs": [
    {
     "data": {
      "text/plain": [
       "array([ 2,  4,  8, 10, 12, 14])"
      ]
     },
     "execution_count": 32,
     "metadata": {},
     "output_type": "execute_result"
    }
   ],
   "source": [
    "a*2"
   ]
  },
  {
   "cell_type": "code",
   "execution_count": 33,
   "id": "c71cc325-834a-44d6-9c94-e95feda1f427",
   "metadata": {},
   "outputs": [
    {
     "data": {
      "text/plain": [
       "array([ 1,  4, 16, 25, 36, 49])"
      ]
     },
     "execution_count": 33,
     "metadata": {},
     "output_type": "execute_result"
    }
   ],
   "source": [
    "a*a"
   ]
  },
  {
   "cell_type": "code",
   "execution_count": 34,
   "id": "62e75e43-527c-43d4-9bea-76d0d346674d",
   "metadata": {},
   "outputs": [
    {
     "data": {
      "text/plain": [
       "array([1.        , 0.08695652, 0.08888889, 0.83333333, 0.07594937,\n",
       "       2.33333333])"
      ]
     },
     "execution_count": 34,
     "metadata": {},
     "output_type": "execute_result"
    }
   ],
   "source": [
    "b = np.array([1,23,45,6,79,3])\n",
    "a/b"
   ]
  },
  {
   "cell_type": "code",
   "execution_count": 35,
   "id": "74827239-8dfb-4a00-ad9b-4da93271dd76",
   "metadata": {},
   "outputs": [
    {
     "data": {
      "text/plain": [
       "array([  1,  46, 180,  30, 474,  21])"
      ]
     },
     "execution_count": 35,
     "metadata": {},
     "output_type": "execute_result"
    }
   ],
   "source": [
    "a*b"
   ]
  },
  {
   "cell_type": "code",
   "execution_count": 36,
   "id": "934e8956-565b-4740-a6b8-249d6e9d4177",
   "metadata": {},
   "outputs": [
    {
     "data": {
      "text/plain": [
       "array([ 2, 25, 49, 11, 85, 10])"
      ]
     },
     "execution_count": 36,
     "metadata": {},
     "output_type": "execute_result"
    }
   ],
   "source": [
    "a+b"
   ]
  },
  {
   "cell_type": "code",
   "execution_count": 37,
   "id": "540325c8-80b6-418d-b761-278023a20d67",
   "metadata": {},
   "outputs": [
    {
     "data": {
      "text/plain": [
       "array([  0, -21, -41,  -1, -73,   4])"
      ]
     },
     "execution_count": 37,
     "metadata": {},
     "output_type": "execute_result"
    }
   ],
   "source": [
    "a-b"
   ]
  },
  {
   "cell_type": "code",
   "execution_count": 38,
   "id": "df9a3a4c-5067-4a8f-be6d-fe390bf2c691",
   "metadata": {},
   "outputs": [
    {
     "data": {
      "text/plain": [
       "array([ 0.84147098, -0.8462204 ,  0.85090352, -0.2794155 , -0.44411267,\n",
       "        0.14112001])"
      ]
     },
     "execution_count": 38,
     "metadata": {},
     "output_type": "execute_result"
    }
   ],
   "source": [
    "np.sin(b)"
   ]
  },
  {
   "cell_type": "code",
   "execution_count": 39,
   "id": "25da5c42-2485-408b-8eec-53564f5c6e71",
   "metadata": {},
   "outputs": [
    {
     "data": {
      "text/plain": [
       "array([ 1.55740772, -2.18503986,  1.15782128, -3.38051501, -0.29100619,\n",
       "        0.87144798])"
      ]
     },
     "execution_count": 39,
     "metadata": {},
     "output_type": "execute_result"
    }
   ],
   "source": [
    "np.tan(a)"
   ]
  },
  {
   "cell_type": "code",
   "execution_count": 40,
   "id": "856db2de-134f-4b08-a76e-c59a0836f05a",
   "metadata": {},
   "outputs": [
    {
     "data": {
      "text/plain": [
       "array([0.54030231, 0.48330476, 0.25168965, 0.36235775, 0.82516842,\n",
       "       0.90956035])"
      ]
     },
     "execution_count": 40,
     "metadata": {},
     "output_type": "execute_result"
    }
   ],
   "source": [
    "np.cos(b/a)"
   ]
  },
  {
   "cell_type": "code",
   "execution_count": 41,
   "id": "75af789b-2d17-4171-b39c-f02c978972be",
   "metadata": {},
   "outputs": [
    {
     "name": "stdout",
     "output_type": "stream",
     "text": [
      "[1 2 4 5 6 7]\n",
      "[[1. 1. 1.]\n",
      " [1. 1. 1.]]\n"
     ]
    },
    {
     "data": {
      "text/plain": [
       "array([[198., 198., 198.],\n",
       "       [198., 198., 198.],\n",
       "       [198., 198., 198.]])"
      ]
     },
     "execution_count": 41,
     "metadata": {},
     "output_type": "execute_result"
    }
   ],
   "source": [
    "b = np.ones((2,3))\n",
    "print(a)\n",
    "a = np.full((3,2),99)\n",
    "print(b)\n",
    "np.matmul(a,b)"
   ]
  },
  {
   "cell_type": "code",
   "execution_count": 44,
   "id": "8df0c135-25ef-4fdd-bf4c-6b869972110a",
   "metadata": {},
   "outputs": [
    {
     "name": "stdout",
     "output_type": "stream",
     "text": [
      "Transpose:\n",
      "[[1. 0. 0. 0. 0.]\n",
      " [0. 1. 0. 0. 0.]\n",
      " [0. 0. 1. 0. 0.]\n",
      " [0. 0. 0. 1. 0.]\n",
      " [0. 0. 0. 0. 1.]]\n",
      "Determinant: 1.0\n",
      "Inverse:\n",
      "[[1. 0. 0. 0. 0.]\n",
      " [0. 1. 0. 0. 0.]\n",
      " [0. 0. 1. 0. 0.]\n",
      " [0. 0. 0. 1. 0.]\n",
      " [0. 0. 0. 0. 1.]]\n",
      "Trace: 5.0\n"
     ]
    }
   ],
   "source": [
    "\n",
    "\n",
    "c = np.identity(5)\n",
    "trans = np.transpose(c)\n",
    "det = np.linalg.det(c)\n",
    "inv = np.linalg.inv(c)\n",
    "trace = np.trace(c)  \n",
    "\n",
    "print(\"Transpose:\")\n",
    "print(trans)\n",
    "print(\"Determinant:\", det)\n",
    "print(\"Inverse:\")\n",
    "print(inv)\n",
    "print(\"Trace:\", trace)\n"
   ]
  },
  {
   "cell_type": "code",
   "execution_count": 107,
   "id": "91007eb6-f2a4-4998-b270-fa7e2a10c4fd",
   "metadata": {},
   "outputs": [
    {
     "data": {
      "text/plain": [
       "array([[1, 2, 3],\n",
       "       [2, 4, 5]])"
      ]
     },
     "execution_count": 107,
     "metadata": {},
     "output_type": "execute_result"
    }
   ],
   "source": [
    "a = np.array([[1,2,3],[2,4,5]])\n",
    "a"
   ]
  },
  {
   "cell_type": "code",
   "execution_count": 114,
   "id": "087041fe-4d46-4f86-ba63-b2e5c8689808",
   "metadata": {},
   "outputs": [
    {
     "data": {
      "text/plain": [
       "array([1, 2, 3])"
      ]
     },
     "execution_count": 114,
     "metadata": {},
     "output_type": "execute_result"
    }
   ],
   "source": [
    "np.min(a, axis = 0)"
   ]
  },
  {
   "cell_type": "code",
   "execution_count": 115,
   "id": "10c12a15-daa2-4030-b668-4199fcb98a4d",
   "metadata": {},
   "outputs": [
    {
     "data": {
      "text/plain": [
       "array([2, 4, 5])"
      ]
     },
     "execution_count": 115,
     "metadata": {},
     "output_type": "execute_result"
    }
   ],
   "source": [
    "np.max(a, axis = 0)"
   ]
  },
  {
   "cell_type": "code",
   "execution_count": 123,
   "id": "27532937-855e-4242-9d9e-6f904759c846",
   "metadata": {},
   "outputs": [
    {
     "name": "stdout",
     "output_type": "stream",
     "text": [
      "[[1 2 3]\n",
      " [1 4 5]]\n",
      "    \n",
      "[[1 2]\n",
      " [3 1]\n",
      " [4 5]]\n"
     ]
    }
   ],
   "source": [
    "before = np.array([[1,2,3],[1,4,5]])\n",
    "print(before)\n",
    "print(\"    \")\n",
    "after = before.reshape((3,2))\n",
    "print(after)"
   ]
  },
  {
   "cell_type": "code",
   "execution_count": 60,
   "id": "899a63c3-2538-48af-b5c0-f67bf5075766",
   "metadata": {},
   "outputs": [
    {
     "data": {
      "text/plain": [
       "array([[1, 2, 3, 4],\n",
       "       [5, 6, 7, 8],\n",
       "       [1, 2, 3, 4],\n",
       "       [5, 6, 7, 8],\n",
       "       [5, 6, 7, 8]])"
      ]
     },
     "execution_count": 60,
     "metadata": {},
     "output_type": "execute_result"
    }
   ],
   "source": [
    "v1 = np.array([1,2,3,4])\n",
    "v2 =np.array([5,6,7,8])\n",
    "\n",
    "np.vstack([v1,v2,v1,v2,v2])"
   ]
  },
  {
   "cell_type": "code",
   "execution_count": 64,
   "id": "c42cc80e-209c-4dcb-aed1-0163a3cac4de",
   "metadata": {},
   "outputs": [
    {
     "data": {
      "text/plain": [
       "array([[0., 0., 1., 1., 1., 0., 0.],\n",
       "       [0., 0., 1., 1., 1., 0., 0.]])"
      ]
     },
     "execution_count": 64,
     "metadata": {},
     "output_type": "execute_result"
    }
   ],
   "source": [
    "h1 = np.zeros([2,2])\n",
    "h2 = np.ones([2,3])\n",
    "\n",
    "np.hstack([h1,h2,h1])"
   ]
  },
  {
   "cell_type": "code",
   "execution_count": 81,
   "id": "136524fa-b33c-4732-bc00-46e03f0e1842",
   "metadata": {},
   "outputs": [
    {
     "name": "stdout",
     "output_type": "stream",
     "text": [
      "[[  1.   2.   3.   4.   4.   4.   5.   5.   6.   2.   1.   5.   3.   5.]\n",
      " [  2.   4.   5.   2.   2.   5.   7.   9.   7.   8.   8.   4.   9.   4.]\n",
      " [  3.   6.   8.   1.   6.   8.  24.   8.   4.  73.  82.  82. 825.  82.]]\n"
     ]
    }
   ],
   "source": [
    "data = np.genfromtxt('data.txt', delimiter=',', usecols=np.arange(14))\n",
    "print(data)\n",
    "\n"
   ]
  },
  {
   "cell_type": "code",
   "execution_count": 82,
   "id": "19d1c7b8-ebba-4118-a165-8c0bf0f9f010",
   "metadata": {},
   "outputs": [
    {
     "data": {
      "text/plain": [
       "array([[False, False, False, False, False, False, False, False, False,\n",
       "        False, False, False, False, False],\n",
       "       [False, False, False, False, False, False, False, False, False,\n",
       "        False, False, False, False, False],\n",
       "       [False, False, False, False, False, False, False, False, False,\n",
       "         True,  True,  True,  True,  True]])"
      ]
     },
     "execution_count": 82,
     "metadata": {},
     "output_type": "execute_result"
    }
   ],
   "source": [
    "data>50"
   ]
  },
  {
   "cell_type": "code",
   "execution_count": 83,
   "id": "9f01c072-e634-43db-aaaf-7e3792d6fa5f",
   "metadata": {},
   "outputs": [
    {
     "data": {
      "text/plain": [
       "array([ 73.,  82.,  82., 825.,  82.])"
      ]
     },
     "execution_count": 83,
     "metadata": {},
     "output_type": "execute_result"
    }
   ],
   "source": [
    "data[data>50]"
   ]
  },
  {
   "cell_type": "code",
   "execution_count": 85,
   "id": "19991ac2-41bc-4674-9a4d-0c285f5d8dfb",
   "metadata": {},
   "outputs": [
    {
     "data": {
      "text/plain": [
       "array([2, 4, 5])"
      ]
     },
     "execution_count": 85,
     "metadata": {},
     "output_type": "execute_result"
    }
   ],
   "source": [
    "a = np.array([1,2,3,4,5,6,7,8,9])\n",
    "a[[1,3,4]]"
   ]
  },
  {
   "cell_type": "code",
   "execution_count": 86,
   "id": "62dee42a-fa88-4ae0-9912-2a9bb07f138e",
   "metadata": {},
   "outputs": [
    {
     "data": {
      "text/plain": [
       "array([[False, False, False, False, False, False, False, False, False,\n",
       "        False, False, False, False, False],\n",
       "       [False, False, False, False, False, False, False, False, False,\n",
       "        False, False, False, False, False],\n",
       "       [False, False, False, False, False, False, False, False, False,\n",
       "         True,  True,  True, False,  True]])"
      ]
     },
     "execution_count": 86,
     "metadata": {},
     "output_type": "execute_result"
    }
   ],
   "source": [
    "((data>50)&(data<100))"
   ]
  },
  {
   "cell_type": "code",
   "execution_count": 87,
   "id": "02ca4bdb-7879-4a2b-bce6-9378348a1dc4",
   "metadata": {},
   "outputs": [
    {
     "data": {
      "text/plain": [
       "array([[ True,  True,  True,  True,  True,  True,  True,  True,  True,\n",
       "         True,  True,  True,  True,  True],\n",
       "       [ True,  True,  True,  True,  True,  True,  True,  True,  True,\n",
       "         True,  True,  True,  True,  True],\n",
       "       [ True,  True,  True,  True,  True,  True,  True,  True,  True,\n",
       "        False, False, False, False, False]])"
      ]
     },
     "execution_count": 87,
     "metadata": {},
     "output_type": "execute_result"
    }
   ],
   "source": [
    "(~(data>50)&(data<100))"
   ]
  },
  {
   "cell_type": "code",
   "execution_count": null,
   "id": "fec13763-01df-4258-a9a6-f21b011f2d67",
   "metadata": {},
   "outputs": [],
   "source": []
  }
 ],
 "metadata": {
  "kernelspec": {
   "display_name": "Python 3 (ipykernel)",
   "language": "python",
   "name": "python3"
  },
  "language_info": {
   "codemirror_mode": {
    "name": "ipython",
    "version": 3
   },
   "file_extension": ".py",
   "mimetype": "text/x-python",
   "name": "python",
   "nbconvert_exporter": "python",
   "pygments_lexer": "ipython3",
   "version": "3.12.4"
  }
 },
 "nbformat": 4,
 "nbformat_minor": 5
}
