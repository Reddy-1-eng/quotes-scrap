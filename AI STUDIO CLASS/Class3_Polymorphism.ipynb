{
  "nbformat": 4,
  "nbformat_minor": 0,
  "metadata": {
    "colab": {
      "provenance": []
    },
    "kernelspec": {
      "name": "python3",
      "display_name": "Python 3"
    },
    "language_info": {
      "name": "python"
    }
  },
  "cells": [
    {
      "cell_type": "markdown",
      "source": [
        "**Polymorphism**\n",
        "\n",
        "\n",
        "Polymorphism is the ability of a single function or method to operate in different ways based on the object or data type it is acting upon. In programming, polymorphism allows methods to be defined in a base class and then overridden in derived classes, enabling objects of different classes to be treated as objects of a common superclass.\n",
        "\n",
        "**Types of Polymorphism**\n",
        "\n",
        "\n",
        "\n",
        "Method Overloading: Multiple methods with the same name but different parameters (types or number).\n"
      ],
      "metadata": {
        "id": "g714PXF7w4nh"
      }
    },
    {
      "cell_type": "code",
      "source": [
        "class Math:\n",
        "    def add(self, a: int, b: int):\n",
        "        return a + b\n",
        "\n",
        "    def add(self, a: float, b: float):\n",
        "        return a + b\n",
        "\n",
        "math = Math()\n",
        "print(math.add(5, 3))       # Calls the integer addition\n",
        "print(math.add(5.0, 3.0))   # Calls the float addition\n"
      ],
      "metadata": {
        "colab": {
          "base_uri": "https://localhost:8080/"
        },
        "id": "8tiZ4iHXw4T5",
        "outputId": "09dbc5a0-12fe-4d91-c5ff-2d1e45f292c3"
      },
      "execution_count": null,
      "outputs": [
        {
          "output_type": "stream",
          "name": "stdout",
          "text": [
            "8\n",
            "8.0\n"
          ]
        }
      ]
    },
    {
      "cell_type": "code",
      "source": [
        "## Overloading a Method for Different Number of Parameters\n",
        "\n",
        "\n",
        "class Area:\n",
        "  def find_area(self,a=None,b=None):\n",
        "    if a!=None and b!=None:\n",
        "      print(\"Area of Rectangle\", a*b)\n",
        "    elif a!=None:\n",
        "      print(\"Area of Rectangle\", a*a)\n",
        "\n",
        "    else:\n",
        "      print(\"Nothing to find \")\n",
        "\n",
        "obj1 = Area()\n",
        "obj1.find_area()\n",
        "obj1.find_area(10)\n",
        "obj1.find_area(10,20)\n"
      ],
      "metadata": {
        "colab": {
          "base_uri": "https://localhost:8080/"
        },
        "id": "HBfhvWyvud19",
        "outputId": "273af850-0e32-4675-de8e-60d2ecdc5c81"
      },
      "execution_count": null,
      "outputs": [
        {
          "output_type": "stream",
          "name": "stdout",
          "text": [
            "Nothing to find \n",
            "Area of Rectangle 100\n",
            "Area of Rectangle 200\n"
          ]
        }
      ]
    },
    {
      "cell_type": "code",
      "source": [
        "## Overloading a Method to Handle Different Data Types\n",
        "\n",
        "class Calculator:\n",
        "    def add(self, a=None, b=None):\n",
        "        if isinstance(a, str) and isinstance(b, str):\n",
        "            print(\"Concatenation of strings:\", a + b)\n",
        "        elif isinstance(a, int) and isinstance(b, int):\n",
        "            print(\"Sum of integers:\", a + b)\n",
        "        else:\n",
        "            print(\"Invalid data types or missing arguments.\")\n",
        "\n",
        "# Creating an object of Calculator\n",
        "calc = Calculator()\n",
        "\n",
        "# Calling add with different types\n",
        "calc.add(10, 20)  # Output: Sum of integers: 30\n",
        "calc.add(\"Hello\", \" World\")  # Output: Concatenation of strings: Hello World\n",
        "calc.add(10)  # Output: Invalid data types or missing arguments\n"
      ],
      "metadata": {
        "colab": {
          "base_uri": "https://localhost:8080/"
        },
        "id": "Ga4gvgkmvBqW",
        "outputId": "98a60cf5-014f-4e4f-df14-0f7ff06d69b2"
      },
      "execution_count": null,
      "outputs": [
        {
          "output_type": "stream",
          "name": "stdout",
          "text": [
            "Sum of integers: 30\n",
            "Concatenation of strings: Hello World\n",
            "Invalid data types or missing arguments.\n"
          ]
        }
      ]
    },
    {
      "cell_type": "code",
      "source": [
        "## Overloading a Method for Different Shapes (Circle, Square, and Rectangle)\n",
        "\n",
        "import math\n",
        "\n",
        "class Shape:\n",
        "    def area(self, radius=None, side=None, length=None, breadth=None):\n",
        "        if radius is not None:\n",
        "            print(f\"Area of Circle: {math.pi * radius ** 2}\")\n",
        "        elif side is not None:\n",
        "            print(f\"Area of Square: {side ** 2}\")\n",
        "        elif length is not None and breadth is not None:\n",
        "            print(f\"Area of Rectangle: {length * breadth}\")\n",
        "        else:\n",
        "            print(\"Please provide valid dimensions.\")\n",
        "\n",
        "# Creating an object of Shape\n",
        "shape = Shape()\n",
        "\n",
        "# Calling area for different shapes\n",
        "shape.area(radius=7)  # Output: Area of Circle: 153.93804002589985\n",
        "shape.area(side=4)  # Output: Area of Square: 16\n",
        "shape.area(length=10, breadth=5)  # Output: Area of Rectangle: 50\n",
        "shape.area()  # Output: Please provide valid dimensions."
      ],
      "metadata": {
        "colab": {
          "base_uri": "https://localhost:8080/"
        },
        "id": "gfDeeEuBwBxE",
        "outputId": "4d27514b-6da7-4f91-b6be-f6f6b269520c"
      },
      "execution_count": null,
      "outputs": [
        {
          "output_type": "stream",
          "name": "stdout",
          "text": [
            "Area of Circle: 153.93804002589985\n",
            "Area of Square: 16\n",
            "Area of Rectangle: 50\n",
            "Please provide valid dimensions.\n"
          ]
        }
      ]
    },
    {
      "cell_type": "markdown",
      "source": [
        "\n",
        "\n",
        "Method Overriding: When a derived class provides a specific implementation of a method that is already defined in its base class."
      ],
      "metadata": {
        "id": "yZ-9-V9jx0Rp"
      }
    },
    {
      "cell_type": "code",
      "source": [
        "## Basic Method\n",
        "\n",
        "class Animal:\n",
        "    def sound(self):\n",
        "        return \"Some sound\"\n",
        "\n",
        "class Dog(Animal):\n",
        "    def sound(self):\n",
        "        return \"Bark\"\n",
        "\n",
        "class Cat(Animal):\n",
        "    def sound(self):\n",
        "        return \"Meow\"\n",
        "\n",
        "# Creating instances of Dog and Cat\n",
        "dog = Dog()\n",
        "cat = Cat()\n",
        "\n",
        "# Calling the overridden method\n",
        "print(dog.sound())  # Output: Bark\n",
        "print(cat.sound())  # Output: Meow\n"
      ],
      "metadata": {
        "colab": {
          "base_uri": "https://localhost:8080/"
        },
        "id": "pcdD02-Jy5TZ",
        "outputId": "bc7d7662-0ab6-439e-9ab4-3a1b67c7ad06"
      },
      "execution_count": null,
      "outputs": [
        {
          "output_type": "stream",
          "name": "stdout",
          "text": [
            "Bark\n",
            "Meow\n"
          ]
        }
      ]
    },
    {
      "cell_type": "code",
      "source": [
        "## Method Overriding with Additional Functionality\n",
        "\n",
        "\n",
        "class Vehicle:\n",
        "    def start(self):\n",
        "        return \"Vehicle is starting\"\n",
        "\n",
        "class Car(Vehicle):\n",
        "    def start(self):\n",
        "        base_message = super().start()  # Call the superclass method\n",
        "        return f\"{base_message} with a roar\"\n",
        "\n",
        "class Motorcycle(Vehicle):\n",
        "    def start(self):\n",
        "        return \"Motorcycle is revving\"\n",
        "\n",
        "# Creating instances of Car and Motorcycle\n",
        "car = Car()\n",
        "motorcycle = Motorcycle()\n",
        "\n",
        "# Calling the overridden method\n",
        "print(car.start())        # Output: Vehicle is starting with a roar\n",
        "print(motorcycle.start()) # Output: Motorcycle is revving\n"
      ],
      "metadata": {
        "colab": {
          "base_uri": "https://localhost:8080/"
        },
        "id": "L1zHB50Ox7Np",
        "outputId": "3d1c6161-aac1-4cf5-9ae0-ad19d5999132"
      },
      "execution_count": null,
      "outputs": [
        {
          "output_type": "stream",
          "name": "stdout",
          "text": [
            "Vehicle is starting with a roar\n",
            "Motorcycle is revving\n"
          ]
        }
      ]
    },
    {
      "cell_type": "code",
      "source": [
        "## Basic Method Overriding\n",
        "\n",
        "\n",
        "class Vehicle:\n",
        "    def __init__(self, mileage, cost):\n",
        "        self.mileage = mileage\n",
        "        self.cost = cost\n",
        "\n",
        "    def show_details(self):\n",
        "        print(\"I am a vehicle\")\n",
        "        print(\"Mileage of vehicle is:\", self.mileage)\n",
        "        print(\"Cost of vehicle is:\", self.cost)\n",
        "\n",
        "\n",
        "class Car(Vehicle):\n",
        "    def __init__(self, mileage, cost, tyres, hp):\n",
        "        super().__init__(mileage, cost)\n",
        "        self.tyres = tyres\n",
        "        self.hp = hp\n",
        "\n",
        "    def show_details(self):  # Overriding the show_details method\n",
        "        super().show_details()  # Calling the base class method\n",
        "   Jv     print(\"I am a car\")\n",
        "        print(\"No. of tyres of vehicle is:\", self.tyres)\n",
        "        print(\"Horse power is:\", self.hp)\n",
        "\n",
        "# Creating an instance of Car\n",
        "my_car = Car(mileage=15, cost=500000, tyres=4, hp=120)\n",
        "\n",
        "# Calling the overridden method\n",
        "my_car.show_details()"
      ],
      "metadata": {
        "colab": {
          "base_uri": "https://localhost:8080/"
        },
        "id": "0JAhs2lcx7JR",
        "outputId": "6ffa13f9-7a7c-4aee-f56d-d69d4fdbb07d"
      },
      "execution_count": null,
      "outputs": [
        {
          "output_type": "stream",
          "name": "stdout",
          "text": [
            "I am a vehicle\n",
            "Mileage of vehicle is: 15\n",
            "Cost of vehicle is: 500000\n",
            "I am a car\n",
            "No. of tyres of vehicle is: 4\n",
            "Horse power is: 120\n"
          ]
        }
      ]
    },
    {
      "cell_type": "code",
      "source": [
        "## Method Overriding with Additional Functionality\n",
        "\n",
        "\n",
        "class Vehicle:\n",
        "    def __init__(self, mileage, cost):\n",
        "        self.mileage = mileage\n",
        "        self.cost = cost\n",
        "\n",
        "    def show_details(self):\n",
        "        print(\"I am a vehicle\")\n",
        "        print(\"Mileage of vehicle is:\", self.mileage)\n",
        "        print(\"Cost of vehicle is:\", self.cost)\n",
        "\n",
        "\n",
        "class Truck(Vehicle):\n",
        "    def __init__(self, mileage, cost, capacity):\n",
        "        super().__init__(mileage, cost)\n",
        "        self.capacity = capacity\n",
        "\n",
        "    def show_details(self):  # Overriding the show_details method\n",
        "        super().show_details()  # Call the base class method\n",
        "        print(\"I am a truck\")\n",
        "        print(\"Carrying capacity is:\", self.capacity)\n",
        "\n",
        "# Creating an instance of Truck\n",
        "my_truck = Truck(mileage=8, cost=800000, capacity=10000)\n",
        "\n",
        "# Calling the overridden method\n",
        "my_truck.show_details()\n",
        "\n"
      ],
      "metadata": {
        "colab": {
          "base_uri": "https://localhost:8080/"
        },
        "id": "kIr_i_5F0aCm",
        "outputId": "0ba950de-cc9b-4ac0-bf8e-62d142d44e04"
      },
      "execution_count": null,
      "outputs": [
        {
          "output_type": "stream",
          "name": "stdout",
          "text": [
            "I am a vehicle\n",
            "Mileage of vehicle is: 8\n",
            "Cost of vehicle is: 800000\n",
            "I am a truck\n",
            "Carrying capacity is: 10000\n"
          ]
        }
      ]
    },
    {
      "cell_type": "code",
      "source": [
        "### Encapsulation\n",
        "\n",
        "class BankAccount:\n",
        "  def __init__(self,balance):\n",
        "    self.__balance = balance\n",
        "\n",
        "  def deposit(self,amount):\n",
        "    if amount>0:\n",
        "      self.__balance += amount\n",
        "    else:\n",
        "      print(\"Deposit amount should be positive\")\n",
        "\n",
        "  def withdraw(self,amount):\n",
        "      if 0<amount<self.__balance:\n",
        "        self.__balance -= amount\n",
        "      else:\n",
        "        print(\"Insufficients funds or invalid amount\")\n",
        "\n",
        "  def get_balance(self):\n",
        "    return self.__balance   ## Accessing encapsulated data through a method\n",
        "\n",
        "\n",
        "account = BankAccount(10000)\n",
        "\n",
        "#print(\"Current balance\",account.get_balance())\n",
        "\n",
        "account.deposit(500)\n",
        "#print(\"New balance\",account.get_balance())\n",
        "\n",
        "account.withdraw(2000)\n",
        "print(\"New balance\",account.get_balance())"
      ],
      "metadata": {
        "id": "iYXAPEbo1ioJ"
      },
      "execution_count": null,
      "outputs": []
    }
  ]
}